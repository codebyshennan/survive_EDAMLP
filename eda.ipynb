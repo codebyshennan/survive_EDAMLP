{
 "cells": [
  {
   "cell_type": "markdown",
   "metadata": {},
   "source": [
    "## Objectives\n",
    "\n",
    "The objective is to predict the survival of coronary artery disease patients using the dataset provided to help doctors to formulate preemptive medical treatments. In your submission, you are to evaluate at least 3 suitable models for estimating the patients’ survivals.\n",
    "\n",
    "## Dataset description\n",
    "\n",
    "The dataset contains the medical records of coronary artery disease patients for a particular hospital. Do note that there could be synthetic features in the dataset. Hence, please ensure that you state and verify any assumptions that you make."
   ]
  },
  {
   "cell_type": "markdown",
   "metadata": {},
   "source": [
    "## Broad Strategy\n",
    "\n",
    "The aim is to identify factors that contribute greatly to the determination of the survival of patients. Understanding the key contributing factors can help doctors determine which trait (\"features\") to arrest in their prognosis. \n",
    "\n",
    "Our data strategy is as follows:\n",
    "\n",
    "1. Analyse data in general (understanding the dataset) - We will have a broad overview of the data provided and make intuitive assumptions about the potential causality of each feature.\n",
    "\n",
    "2. It is likely that data imputation is required to top up any missing data and clean up any false representation. This will form the majority of our data organisation so that analysis can be undistracted.\n",
    "    a. if the missing data is minimal in count, we shall inpute by commonality.\n",
    "    b. if the missing data is substantial, or comprise a significant proportion of the feature, we shall inpute by randomising across a range between the established feature mean +- standard deviation of the distribution.\n",
    "\n",
    "3. In order for a clean machine learning process, we will need to convert any continuous data into numerical categories. This allows proper labelling and clear categorisation. We should ensure that the data is segregated equally to prevent clear majority bias during training.\n",
    "\n",
    "4. Once our data is cleaned and organised, we can then derive assumptions - e.g. some features are not really helpful\n",
    "\n",
    "5. Group continuous data types into discrete categories e.g. age banding\n",
    "\n",
    "6. Apply various ML models and assess their relative performance. Then we evaluate and optimize the hyperparameters.\n"
   ]
  },
  {
   "cell_type": "markdown",
   "metadata": {},
   "source": [
    "### Base Installation"
   ]
  },
  {
   "cell_type": "code",
   "execution_count": 1,
   "metadata": {
    "scrolled": false
   },
   "outputs": [
    {
     "name": "stdout",
     "output_type": "stream",
     "text": [
      "Requirement already satisfied: SQLAlchemy in c:\\users\\wongs\\anaconda3\\lib\\site-packages (1.3.20)\n"
     ]
    }
   ],
   "source": [
    "!pip3 install SQLAlchemy"
   ]
  },
  {
   "cell_type": "markdown",
   "metadata": {},
   "source": [
    "### Base Imports\n",
    "We require a few libraries to assist us in setting up the dataframe of the data."
   ]
  },
  {
   "cell_type": "code",
   "execution_count": 2,
   "metadata": {},
   "outputs": [],
   "source": [
    "# linear algebra\n",
    "import numpy as np \n",
    "\n",
    "# data processing\n",
    "import pandas as pd\n",
    "pd.options.mode.chained_assignment = None  # default='warn'\n",
    "\n",
    "# data visualization\n",
    "import seaborn as sns\n",
    "%matplotlib inline\n",
    "from matplotlib import pyplot as plt\n",
    "from matplotlib import style\n",
    "\n",
    "# sql\n",
    "import sqlalchemy as sql"
   ]
  },
  {
   "cell_type": "markdown",
   "metadata": {},
   "source": [
    "### Algos"
   ]
  },
  {
   "cell_type": "code",
   "execution_count": 3,
   "metadata": {},
   "outputs": [],
   "source": [
    "# Algorithms\n",
    "from sklearn import linear_model\n",
    "from sklearn.linear_model import LogisticRegression\n",
    "from sklearn.ensemble import RandomForestClassifier\n",
    "from sklearn.linear_model import Perceptron\n",
    "from sklearn.linear_model import SGDClassifier\n",
    "from sklearn.tree import DecisionTreeClassifier\n",
    "from sklearn.neighbors import KNeighborsClassifier\n",
    "from sklearn.svm import SVC, LinearSVC\n",
    "from sklearn.naive_bayes import GaussianNB"
   ]
  },
  {
   "cell_type": "markdown",
   "metadata": {},
   "source": [
    "### Connecting to the datasource\n",
    "Initialize the db by declaring file location."
   ]
  },
  {
   "cell_type": "code",
   "execution_count": 4,
   "metadata": {},
   "outputs": [],
   "source": [
    "connection_string = \"sqlite:///data/survive.db\""
   ]
  },
  {
   "cell_type": "code",
   "execution_count": 5,
   "metadata": {
    "scrolled": false
   },
   "outputs": [
    {
     "name": "stdout",
     "output_type": "stream",
     "text": [
      "2022-01-17 17:59:13,634 INFO sqlalchemy.engine.base.Engine SELECT CAST('test plain returns' AS VARCHAR(60)) AS anon_1\n",
      "2022-01-17 17:59:13,637 INFO sqlalchemy.engine.base.Engine ()\n",
      "2022-01-17 17:59:13,641 INFO sqlalchemy.engine.base.Engine SELECT CAST('test unicode returns' AS VARCHAR(60)) AS anon_1\n",
      "2022-01-17 17:59:13,645 INFO sqlalchemy.engine.base.Engine ()\n"
     ]
    }
   ],
   "source": [
    "# echoes the search params at every connection\n",
    "db = sql.create_engine(connection_string, echo=True)\n",
    "engine = db.connect()"
   ]
  },
  {
   "cell_type": "markdown",
   "metadata": {},
   "source": [
    "### Establishing the dataframe"
   ]
  },
  {
   "cell_type": "code",
   "execution_count": 6,
   "metadata": {},
   "outputs": [
    {
     "name": "stdout",
     "output_type": "stream",
     "text": [
      "2022-01-17 17:59:13,691 INFO sqlalchemy.engine.base.Engine PRAGMA main.table_info(\"SELECT * FROM survive\")\n",
      "2022-01-17 17:59:13,694 INFO sqlalchemy.engine.base.Engine ()\n",
      "2022-01-17 17:59:13,752 INFO sqlalchemy.engine.base.Engine PRAGMA temp.table_info(\"SELECT * FROM survive\")\n",
      "2022-01-17 17:59:13,758 INFO sqlalchemy.engine.base.Engine ()\n",
      "2022-01-17 17:59:13,774 INFO sqlalchemy.engine.base.Engine SELECT * FROM survive\n",
      "2022-01-17 17:59:13,780 INFO sqlalchemy.engine.base.Engine ()\n"
     ]
    }
   ],
   "source": [
    "query_all = \"SELECT * FROM survive\"\n",
    "df = pd.read_sql(query_all, engine)\n"
   ]
  },
  {
   "cell_type": "markdown",
   "metadata": {},
   "source": [
    "### Data Exploration/Analysis"
   ]
  },
  {
   "cell_type": "code",
   "execution_count": 7,
   "metadata": {
    "scrolled": true
   },
   "outputs": [
    {
     "name": "stdout",
     "output_type": "stream",
     "text": [
      "<class 'pandas.core.frame.DataFrame'>\n",
      "RangeIndex: 15000 entries, 0 to 14999\n",
      "Data columns (total 16 columns):\n",
      " #   Column                  Non-Null Count  Dtype  \n",
      "---  ------                  --------------  -----  \n",
      " 0   ID                      15000 non-null  object \n",
      " 1   Survive                 15000 non-null  object \n",
      " 2   Gender                  15000 non-null  object \n",
      " 3   Smoke                   15000 non-null  object \n",
      " 4   Diabetes                15000 non-null  object \n",
      " 5   Age                     15000 non-null  int64  \n",
      " 6   Ejection Fraction       15000 non-null  object \n",
      " 7   Sodium                  15000 non-null  int64  \n",
      " 8   Creatinine              14501 non-null  float64\n",
      " 9   Platelets               15000 non-null  float64\n",
      " 10  Creatine phosphokinase  15000 non-null  int64  \n",
      " 11  Blood Pressure          15000 non-null  int64  \n",
      " 12  Hemoglobin              15000 non-null  float64\n",
      " 13  Height                  15000 non-null  int64  \n",
      " 14  Weight                  15000 non-null  int64  \n",
      " 15  Favorite color          15000 non-null  object \n",
      "dtypes: float64(3), int64(6), object(7)\n",
      "memory usage: 1.8+ MB\n"
     ]
    }
   ],
   "source": [
    "df.info()"
   ]
  },
  {
   "cell_type": "markdown",
   "metadata": {},
   "source": [
    "There are 15000 samples and 14 features, with the target variable (\"Survive\"). 6 of the above features are integers, with the rest being floats or objects. The breakdown of the features follows after exploratory analysis of the features in detail."
   ]
  },
  {
   "cell_type": "code",
   "execution_count": 8,
   "metadata": {
    "scrolled": true
   },
   "outputs": [
    {
     "data": {
      "text/html": [
       "<div>\n",
       "<style scoped>\n",
       "    .dataframe tbody tr th:only-of-type {\n",
       "        vertical-align: middle;\n",
       "    }\n",
       "\n",
       "    .dataframe tbody tr th {\n",
       "        vertical-align: top;\n",
       "    }\n",
       "\n",
       "    .dataframe thead th {\n",
       "        text-align: right;\n",
       "    }\n",
       "</style>\n",
       "<table border=\"1\" class=\"dataframe\">\n",
       "  <thead>\n",
       "    <tr style=\"text-align: right;\">\n",
       "      <th></th>\n",
       "      <th>ID</th>\n",
       "      <th>Survive</th>\n",
       "      <th>Gender</th>\n",
       "      <th>Smoke</th>\n",
       "      <th>Diabetes</th>\n",
       "      <th>Age</th>\n",
       "      <th>Ejection Fraction</th>\n",
       "      <th>Sodium</th>\n",
       "      <th>Creatinine</th>\n",
       "      <th>Platelets</th>\n",
       "      <th>Creatine phosphokinase</th>\n",
       "      <th>Blood Pressure</th>\n",
       "      <th>Hemoglobin</th>\n",
       "      <th>Height</th>\n",
       "      <th>Weight</th>\n",
       "      <th>Favorite color</th>\n",
       "    </tr>\n",
       "  </thead>\n",
       "  <tbody>\n",
       "    <tr>\n",
       "      <th>0</th>\n",
       "      <td>TIG1GE</td>\n",
       "      <td>0</td>\n",
       "      <td>Male</td>\n",
       "      <td>Yes</td>\n",
       "      <td>Normal</td>\n",
       "      <td>50</td>\n",
       "      <td>Low</td>\n",
       "      <td>141</td>\n",
       "      <td>0.70</td>\n",
       "      <td>266000.0</td>\n",
       "      <td>185</td>\n",
       "      <td>105</td>\n",
       "      <td>12.3</td>\n",
       "      <td>180</td>\n",
       "      <td>93</td>\n",
       "      <td>green</td>\n",
       "    </tr>\n",
       "    <tr>\n",
       "      <th>1</th>\n",
       "      <td>VXUCV9</td>\n",
       "      <td>1</td>\n",
       "      <td>Male</td>\n",
       "      <td>No</td>\n",
       "      <td>Normal</td>\n",
       "      <td>75</td>\n",
       "      <td>Low</td>\n",
       "      <td>134</td>\n",
       "      <td>2.50</td>\n",
       "      <td>224000.0</td>\n",
       "      <td>99</td>\n",
       "      <td>162</td>\n",
       "      <td>13.0</td>\n",
       "      <td>140</td>\n",
       "      <td>47</td>\n",
       "      <td>black</td>\n",
       "    </tr>\n",
       "    <tr>\n",
       "      <th>2</th>\n",
       "      <td>AFH4F1</td>\n",
       "      <td>1</td>\n",
       "      <td>Female</td>\n",
       "      <td>No</td>\n",
       "      <td>Pre-diabetes</td>\n",
       "      <td>80</td>\n",
       "      <td>Low</td>\n",
       "      <td>135</td>\n",
       "      <td>1.30</td>\n",
       "      <td>192000.0</td>\n",
       "      <td>776</td>\n",
       "      <td>179</td>\n",
       "      <td>12.4</td>\n",
       "      <td>150</td>\n",
       "      <td>61</td>\n",
       "      <td>white</td>\n",
       "    </tr>\n",
       "    <tr>\n",
       "      <th>3</th>\n",
       "      <td>ZK6PAC</td>\n",
       "      <td>0</td>\n",
       "      <td>Male</td>\n",
       "      <td>No</td>\n",
       "      <td>Normal</td>\n",
       "      <td>-60</td>\n",
       "      <td>Low</td>\n",
       "      <td>136</td>\n",
       "      <td>0.90</td>\n",
       "      <td>228000.0</td>\n",
       "      <td>2261</td>\n",
       "      <td>136</td>\n",
       "      <td>15.3</td>\n",
       "      <td>130</td>\n",
       "      <td>48</td>\n",
       "      <td>yellow</td>\n",
       "    </tr>\n",
       "    <tr>\n",
       "      <th>4</th>\n",
       "      <td>6CVBRT</td>\n",
       "      <td>0</td>\n",
       "      <td>Female</td>\n",
       "      <td>No</td>\n",
       "      <td>Normal</td>\n",
       "      <td>70</td>\n",
       "      <td>Low</td>\n",
       "      <td>141</td>\n",
       "      <td>0.90</td>\n",
       "      <td>358000.0</td>\n",
       "      <td>1202</td>\n",
       "      <td>171</td>\n",
       "      <td>13.3</td>\n",
       "      <td>177</td>\n",
       "      <td>64</td>\n",
       "      <td>blue</td>\n",
       "    </tr>\n",
       "    <tr>\n",
       "      <th>5</th>\n",
       "      <td>5JAQ9G</td>\n",
       "      <td>1</td>\n",
       "      <td>Male</td>\n",
       "      <td>No</td>\n",
       "      <td>Normal</td>\n",
       "      <td>55</td>\n",
       "      <td>Low</td>\n",
       "      <td>138</td>\n",
       "      <td>1.10</td>\n",
       "      <td>314000.0</td>\n",
       "      <td>2017</td>\n",
       "      <td>88</td>\n",
       "      <td>16.5</td>\n",
       "      <td>176</td>\n",
       "      <td>58</td>\n",
       "      <td>red</td>\n",
       "    </tr>\n",
       "    <tr>\n",
       "      <th>6</th>\n",
       "      <td>1ZZC41</td>\n",
       "      <td>1</td>\n",
       "      <td>Male</td>\n",
       "      <td>No</td>\n",
       "      <td>Normal</td>\n",
       "      <td>75</td>\n",
       "      <td>Low</td>\n",
       "      <td>134</td>\n",
       "      <td>2.50</td>\n",
       "      <td>224000.0</td>\n",
       "      <td>99</td>\n",
       "      <td>164</td>\n",
       "      <td>16.3</td>\n",
       "      <td>172</td>\n",
       "      <td>70</td>\n",
       "      <td>red</td>\n",
       "    </tr>\n",
       "    <tr>\n",
       "      <th>7</th>\n",
       "      <td>E6DJ0W</td>\n",
       "      <td>0</td>\n",
       "      <td>Female</td>\n",
       "      <td>No</td>\n",
       "      <td>Normal</td>\n",
       "      <td>65</td>\n",
       "      <td>Low</td>\n",
       "      <td>139</td>\n",
       "      <td>1.70</td>\n",
       "      <td>294000.0</td>\n",
       "      <td>326</td>\n",
       "      <td>82</td>\n",
       "      <td>14.1</td>\n",
       "      <td>167</td>\n",
       "      <td>50</td>\n",
       "      <td>yellow</td>\n",
       "    </tr>\n",
       "    <tr>\n",
       "      <th>8</th>\n",
       "      <td>CAD24P</td>\n",
       "      <td>No</td>\n",
       "      <td>Female</td>\n",
       "      <td>No</td>\n",
       "      <td>Pre-diabetes</td>\n",
       "      <td>60</td>\n",
       "      <td>Low</td>\n",
       "      <td>140</td>\n",
       "      <td>0.75</td>\n",
       "      <td>228000.0</td>\n",
       "      <td>96</td>\n",
       "      <td>83</td>\n",
       "      <td>15.5</td>\n",
       "      <td>176</td>\n",
       "      <td>94</td>\n",
       "      <td>black</td>\n",
       "    </tr>\n",
       "    <tr>\n",
       "      <th>9</th>\n",
       "      <td>VBTJA1</td>\n",
       "      <td>1</td>\n",
       "      <td>Female</td>\n",
       "      <td>No</td>\n",
       "      <td>Normal</td>\n",
       "      <td>60</td>\n",
       "      <td>Low</td>\n",
       "      <td>127</td>\n",
       "      <td>1.70</td>\n",
       "      <td>62000.0</td>\n",
       "      <td>166</td>\n",
       "      <td>59</td>\n",
       "      <td>12.3</td>\n",
       "      <td>156</td>\n",
       "      <td>47</td>\n",
       "      <td>black</td>\n",
       "    </tr>\n",
       "  </tbody>\n",
       "</table>\n",
       "</div>"
      ],
      "text/plain": [
       "       ID Survive  Gender Smoke      Diabetes  Age Ejection Fraction  Sodium  \\\n",
       "0  TIG1GE       0    Male   Yes        Normal   50               Low     141   \n",
       "1  VXUCV9       1    Male    No        Normal   75               Low     134   \n",
       "2  AFH4F1       1  Female    No  Pre-diabetes   80               Low     135   \n",
       "3  ZK6PAC       0    Male    No        Normal  -60               Low     136   \n",
       "4  6CVBRT       0  Female    No        Normal   70               Low     141   \n",
       "5  5JAQ9G       1    Male    No        Normal   55               Low     138   \n",
       "6  1ZZC41       1    Male    No        Normal   75               Low     134   \n",
       "7  E6DJ0W       0  Female    No        Normal   65               Low     139   \n",
       "8  CAD24P      No  Female    No  Pre-diabetes   60               Low     140   \n",
       "9  VBTJA1       1  Female    No        Normal   60               Low     127   \n",
       "\n",
       "   Creatinine  Platelets  Creatine phosphokinase  Blood Pressure  Hemoglobin  \\\n",
       "0        0.70   266000.0                     185             105        12.3   \n",
       "1        2.50   224000.0                      99             162        13.0   \n",
       "2        1.30   192000.0                     776             179        12.4   \n",
       "3        0.90   228000.0                    2261             136        15.3   \n",
       "4        0.90   358000.0                    1202             171        13.3   \n",
       "5        1.10   314000.0                    2017              88        16.5   \n",
       "6        2.50   224000.0                      99             164        16.3   \n",
       "7        1.70   294000.0                     326              82        14.1   \n",
       "8        0.75   228000.0                      96              83        15.5   \n",
       "9        1.70    62000.0                     166              59        12.3   \n",
       "\n",
       "   Height  Weight Favorite color  \n",
       "0     180      93          green  \n",
       "1     140      47          black  \n",
       "2     150      61          white  \n",
       "3     130      48         yellow  \n",
       "4     177      64           blue  \n",
       "5     176      58            red  \n",
       "6     172      70            red  \n",
       "7     167      50         yellow  \n",
       "8     176      94          black  \n",
       "9     156      47          black  "
      ]
     },
     "execution_count": 8,
     "metadata": {},
     "output_type": "execute_result"
    }
   ],
   "source": [
    "df.head(10)"
   ]
  },
  {
   "cell_type": "markdown",
   "metadata": {},
   "source": [
    "The data type tells us that our key feature \"Survive\" will need to be cast as an integer type for analysis due to non-integer type (\"object\"). Furthermore, several other features are non-numeric, and we would need to parse them for the machine learning algorithms to process. There are also values with the same intrinsic value but different representation e.g. \"Low\" vs \"L\", and so we would need to pre-process these before discrete categorisation."
   ]
  },
  {
   "cell_type": "markdown",
   "metadata": {},
   "source": [
    "## Broad Description of the initial column categories\n",
    "Running .describe() below gives us a numerical understanding of our data, while looking preemptively at a sample of 10 rows of the data can give us some intuition and understanding of the representation, so that we know how to proceed to categorize.\n",
    "\n",
    "### In Summary:\n",
    "Total of 14 sub-categories, 9 numerical sub-categories"
   ]
  },
  {
   "cell_type": "code",
   "execution_count": 9,
   "metadata": {
    "scrolled": false
   },
   "outputs": [
    {
     "data": {
      "text/html": [
       "<div>\n",
       "<style scoped>\n",
       "    .dataframe tbody tr th:only-of-type {\n",
       "        vertical-align: middle;\n",
       "    }\n",
       "\n",
       "    .dataframe tbody tr th {\n",
       "        vertical-align: top;\n",
       "    }\n",
       "\n",
       "    .dataframe thead th {\n",
       "        text-align: right;\n",
       "    }\n",
       "</style>\n",
       "<table border=\"1\" class=\"dataframe\">\n",
       "  <thead>\n",
       "    <tr style=\"text-align: right;\">\n",
       "      <th></th>\n",
       "      <th>Age</th>\n",
       "      <th>Sodium</th>\n",
       "      <th>Creatinine</th>\n",
       "      <th>Platelets</th>\n",
       "      <th>Creatine phosphokinase</th>\n",
       "      <th>Blood Pressure</th>\n",
       "      <th>Hemoglobin</th>\n",
       "      <th>Height</th>\n",
       "      <th>Weight</th>\n",
       "    </tr>\n",
       "  </thead>\n",
       "  <tbody>\n",
       "    <tr>\n",
       "      <th>count</th>\n",
       "      <td>15000.000000</td>\n",
       "      <td>15000.000000</td>\n",
       "      <td>14501.000000</td>\n",
       "      <td>15000.00000</td>\n",
       "      <td>15000.000000</td>\n",
       "      <td>15000.000000</td>\n",
       "      <td>15000.000000</td>\n",
       "      <td>15000.000000</td>\n",
       "      <td>15000.000000</td>\n",
       "    </tr>\n",
       "    <tr>\n",
       "      <th>mean</th>\n",
       "      <td>57.428467</td>\n",
       "      <td>136.604267</td>\n",
       "      <td>1.410195</td>\n",
       "      <td>263096.01649</td>\n",
       "      <td>580.151800</td>\n",
       "      <td>103.676667</td>\n",
       "      <td>12.910667</td>\n",
       "      <td>159.475200</td>\n",
       "      <td>69.340467</td>\n",
       "    </tr>\n",
       "    <tr>\n",
       "      <th>std</th>\n",
       "      <td>23.411173</td>\n",
       "      <td>4.364890</td>\n",
       "      <td>1.044535</td>\n",
       "      <td>98056.33034</td>\n",
       "      <td>955.418765</td>\n",
       "      <td>39.700138</td>\n",
       "      <td>2.500152</td>\n",
       "      <td>17.344439</td>\n",
       "      <td>25.298287</td>\n",
       "    </tr>\n",
       "    <tr>\n",
       "      <th>min</th>\n",
       "      <td>-95.000000</td>\n",
       "      <td>113.000000</td>\n",
       "      <td>0.500000</td>\n",
       "      <td>25100.00000</td>\n",
       "      <td>23.000000</td>\n",
       "      <td>40.000000</td>\n",
       "      <td>9.000000</td>\n",
       "      <td>130.000000</td>\n",
       "      <td>19.000000</td>\n",
       "    </tr>\n",
       "    <tr>\n",
       "      <th>25%</th>\n",
       "      <td>50.000000</td>\n",
       "      <td>134.000000</td>\n",
       "      <td>0.900000</td>\n",
       "      <td>211000.00000</td>\n",
       "      <td>115.000000</td>\n",
       "      <td>70.000000</td>\n",
       "      <td>10.700000</td>\n",
       "      <td>144.000000</td>\n",
       "      <td>50.000000</td>\n",
       "    </tr>\n",
       "    <tr>\n",
       "      <th>50%</th>\n",
       "      <td>60.000000</td>\n",
       "      <td>137.000000</td>\n",
       "      <td>1.100000</td>\n",
       "      <td>262000.00000</td>\n",
       "      <td>250.000000</td>\n",
       "      <td>100.000000</td>\n",
       "      <td>12.700000</td>\n",
       "      <td>160.000000</td>\n",
       "      <td>66.000000</td>\n",
       "    </tr>\n",
       "    <tr>\n",
       "      <th>75%</th>\n",
       "      <td>70.000000</td>\n",
       "      <td>140.000000</td>\n",
       "      <td>1.400000</td>\n",
       "      <td>304000.00000</td>\n",
       "      <td>582.000000</td>\n",
       "      <td>137.000000</td>\n",
       "      <td>15.100000</td>\n",
       "      <td>174.000000</td>\n",
       "      <td>87.000000</td>\n",
       "    </tr>\n",
       "    <tr>\n",
       "      <th>max</th>\n",
       "      <td>95.000000</td>\n",
       "      <td>148.000000</td>\n",
       "      <td>9.400000</td>\n",
       "      <td>850000.00000</td>\n",
       "      <td>7861.000000</td>\n",
       "      <td>179.000000</td>\n",
       "      <td>17.500000</td>\n",
       "      <td>189.000000</td>\n",
       "      <td>141.000000</td>\n",
       "    </tr>\n",
       "  </tbody>\n",
       "</table>\n",
       "</div>"
      ],
      "text/plain": [
       "                Age        Sodium    Creatinine     Platelets  \\\n",
       "count  15000.000000  15000.000000  14501.000000   15000.00000   \n",
       "mean      57.428467    136.604267      1.410195  263096.01649   \n",
       "std       23.411173      4.364890      1.044535   98056.33034   \n",
       "min      -95.000000    113.000000      0.500000   25100.00000   \n",
       "25%       50.000000    134.000000      0.900000  211000.00000   \n",
       "50%       60.000000    137.000000      1.100000  262000.00000   \n",
       "75%       70.000000    140.000000      1.400000  304000.00000   \n",
       "max       95.000000    148.000000      9.400000  850000.00000   \n",
       "\n",
       "       Creatine phosphokinase  Blood Pressure    Hemoglobin        Height  \\\n",
       "count            15000.000000    15000.000000  15000.000000  15000.000000   \n",
       "mean               580.151800      103.676667     12.910667    159.475200   \n",
       "std                955.418765       39.700138      2.500152     17.344439   \n",
       "min                 23.000000       40.000000      9.000000    130.000000   \n",
       "25%                115.000000       70.000000     10.700000    144.000000   \n",
       "50%                250.000000      100.000000     12.700000    160.000000   \n",
       "75%                582.000000      137.000000     15.100000    174.000000   \n",
       "max               7861.000000      179.000000     17.500000    189.000000   \n",
       "\n",
       "             Weight  \n",
       "count  15000.000000  \n",
       "mean      69.340467  \n",
       "std       25.298287  \n",
       "min       19.000000  \n",
       "25%       50.000000  \n",
       "50%       66.000000  \n",
       "75%       87.000000  \n",
       "max      141.000000  "
      ]
     },
     "execution_count": 9,
     "metadata": {},
     "output_type": "execute_result"
    }
   ],
   "source": [
    "df.describe()"
   ]
  },
  {
   "cell_type": "code",
   "execution_count": 10,
   "metadata": {},
   "outputs": [
    {
     "data": {
      "text/plain": [
       "array(['ID', 'Survive', 'Gender', 'Smoke', 'Diabetes', 'Age',\n",
       "       'Ejection Fraction', 'Sodium', 'Creatinine', 'Platelets',\n",
       "       'Creatine phosphokinase', 'Blood Pressure', 'Hemoglobin', 'Height',\n",
       "       'Weight', 'Favorite color'], dtype=object)"
      ]
     },
     "execution_count": 10,
     "metadata": {},
     "output_type": "execute_result"
    }
   ],
   "source": [
    "df.columns.values"
   ]
  },
  {
   "cell_type": "markdown",
   "metadata": {},
   "source": [
    "### Overview of Features\n",
    "1. ID (object) -> the unique alphanumeric sequence to identify patients. The non-indexed nature of the ID is likely an  obfuscation to deidentify patients.\n",
    "\n",
    "2. Survive (object) -> { No: \"0\", Yes: \"1\"} on whether a patient survives coronary artery disease at time of test. We will need to cast this as type(int) later on.\n",
    "\n",
    "3. Gender (object) -> { \"Male\", \"Female\" } dictates the gender of the patient.\n",
    "\n",
    "4. Smoke (object) -> { \"Yes\", \"No\" } if the patient is a smoker or not.\n",
    "\n",
    "5. Diabetes (object) -> { \"Normal\", \"Pre-diabetic\", \"Diabetes\" } non-continuous data, but could it be on a continuum? \n",
    "\n",
    "6. Age (int64) -> continuous, need to categorise. There are apparently some negative numbers too (likely a typographical error).\n",
    "\n",
    "7. Ejection Fraction (object) -> { \"Low\", \"High\" } describes the strength of the heart\n",
    "\n",
    "8. Sodium (int | mg/dL) -> 113 (min) to 148 (max)\n",
    "\n",
    "9. Creatinine (float | mEq/L) -> 0.5 (min) to 9.4 (max)\n",
    "\n",
    "10. Platelets (float | platelets/mL) -> 25100 (min) to 850000 (max)\n",
    "\n",
    "11. Creatine phosphokinase (int | mcg/L) -> 23 (min) to 7861 (max)\n",
    "\n",
    "12. Blood Pressure\t(int | mmHg) -> 40 (min) to 179 (max)\n",
    "\n",
    "13. Hemoglobin\t(float | g/dL) -> 9 (min) to 17.5 (max)\n",
    "\n",
    "14. Height in cm (int) -> 130 (min) to 189 (max)\n",
    "\n",
    "15. Weight in kg (int)\t-> 25.298 (min) to 141 (max)\n",
    "\n",
    "16. Favorite color -> top is blue, 6 unique colors {black, blue, green, red, white, yellow} (does this matter?!)"
   ]
  },
  {
   "cell_type": "markdown",
   "metadata": {},
   "source": [
    "We will first check which values are missing."
   ]
  },
  {
   "cell_type": "code",
   "execution_count": 11,
   "metadata": {
    "scrolled": true
   },
   "outputs": [
    {
     "data": {
      "text/html": [
       "<div>\n",
       "<style scoped>\n",
       "    .dataframe tbody tr th:only-of-type {\n",
       "        vertical-align: middle;\n",
       "    }\n",
       "\n",
       "    .dataframe tbody tr th {\n",
       "        vertical-align: top;\n",
       "    }\n",
       "\n",
       "    .dataframe thead th {\n",
       "        text-align: right;\n",
       "    }\n",
       "</style>\n",
       "<table border=\"1\" class=\"dataframe\">\n",
       "  <thead>\n",
       "    <tr style=\"text-align: right;\">\n",
       "      <th></th>\n",
       "      <th>Total</th>\n",
       "      <th>%</th>\n",
       "    </tr>\n",
       "  </thead>\n",
       "  <tbody>\n",
       "    <tr>\n",
       "      <th>Creatinine</th>\n",
       "      <td>499</td>\n",
       "      <td>3.3</td>\n",
       "    </tr>\n",
       "    <tr>\n",
       "      <th>Favorite color</th>\n",
       "      <td>0</td>\n",
       "      <td>0.0</td>\n",
       "    </tr>\n",
       "    <tr>\n",
       "      <th>Weight</th>\n",
       "      <td>0</td>\n",
       "      <td>0.0</td>\n",
       "    </tr>\n",
       "  </tbody>\n",
       "</table>\n",
       "</div>"
      ],
      "text/plain": [
       "                Total    %\n",
       "Creatinine        499  3.3\n",
       "Favorite color      0  0.0\n",
       "Weight              0  0.0"
      ]
     },
     "execution_count": 11,
     "metadata": {},
     "output_type": "execute_result"
    }
   ],
   "source": [
    "total = df.isnull().sum().sort_values(ascending=False)\n",
    "\n",
    "proportion = df.isnull().sum() / df.isnull().count() * 100\n",
    "proportion_sorted = (round(proportion, 1)).sort_values(ascending=False)\n",
    "\n",
    "missing = pd.concat([total, proportion_sorted], axis=1, keys=['Total', '%'])\n",
    "missing.head(3)"
   ]
  },
  {
   "cell_type": "code",
   "execution_count": 12,
   "metadata": {},
   "outputs": [
    {
     "data": {
      "text/plain": [
       "<AxesSubplot:>"
      ]
     },
     "execution_count": 12,
     "metadata": {},
     "output_type": "execute_result"
    },
    {
     "data": {
      "image/png": "[encoded data removed]",
      "text/plain": [
       "<Figure size 432x288 with 1 Axes>"
      ]
     },
     "metadata": {
      "needs_background": "light"
     },
     "output_type": "display_data"
    }
   ],
   "source": [
    "sns.heatmap(df.isnull(), yticklabels=False, cbar=False, cmap='viridis')"
   ]
  },
  {
   "cell_type": "markdown",
   "metadata": {},
   "source": [
    "Creatinine has ~390 values missing, but since it's a small proportion (around 3%) we will attempt to impute it using numbers generated from a common range. We will do this later."
   ]
  },
  {
   "cell_type": "markdown",
   "metadata": {},
   "source": [
    "# Data Cleaning"
   ]
  },
  {
   "cell_type": "markdown",
   "metadata": {},
   "source": [
    "## Assessing Categorical Features\n",
    "\n",
    "**1. Key Feature**\n",
    "\n",
    "We will first look at our key feature \"Survive\" and denormalize it to an integer feature."
   ]
  },
  {
   "cell_type": "code",
   "execution_count": 13,
   "metadata": {
    "scrolled": false
   },
   "outputs": [
    {
     "data": {
      "text/plain": [
       "count    15000.000000\n",
       "mean         0.321000\n",
       "std          0.466876\n",
       "min          0.000000\n",
       "25%          0.000000\n",
       "50%          0.000000\n",
       "75%          1.000000\n",
       "max          1.000000\n",
       "Name: Survive, dtype: float64"
      ]
     },
     "execution_count": 13,
     "metadata": {},
     "output_type": "execute_result"
    }
   ],
   "source": [
    "# ensure that the binary values are inputted as strings\n",
    "\n",
    "df[\"Survive\"] = df[\"Survive\"].replace('No', 0)\n",
    "df[\"Survive\"] = df[\"Survive\"].replace('Yes', 1)\n",
    "df[\"Survive\"] = df[\"Survive\"].astype(int)\n",
    "\n",
    "df[\"Survive\"].describe()"
   ]
  },
  {
   "cell_type": "markdown",
   "metadata": {},
   "source": [
    "**2. Effects of age & gender on survival**"
   ]
  },
  {
   "cell_type": "code",
   "execution_count": 14,
   "metadata": {},
   "outputs": [
    {
     "data": {
      "text/plain": [
       "count    15000.000000\n",
       "mean        60.870467\n",
       "std         11.868907\n",
       "min         40.000000\n",
       "25%         51.000000\n",
       "50%         60.000000\n",
       "75%         70.000000\n",
       "max         95.000000\n",
       "Name: Age, dtype: float64"
      ]
     },
     "execution_count": 14,
     "metadata": {},
     "output_type": "execute_result"
    }
   ],
   "source": [
    "# there are negative values, we need absolute all the values\n",
    "\n",
    "df[\"Age\"] = abs(df[\"Age\"])\n",
    "df[\"Age\"].describe()"
   ]
  },
  {
   "cell_type": "markdown",
   "metadata": {},
   "source": [
    "We will first convert all negative numbers as positive. As the value of the negative numbers seemed to be within the age range, we can safely assume that this is probably a typographic error."
   ]
  },
  {
   "cell_type": "code",
   "execution_count": 15,
   "metadata": {},
   "outputs": [
    {
     "name": "stdout",
     "output_type": "stream",
     "text": [
      "Males: 65.04666666666667 9757\n",
      "Females: 34.95333333333333 5243\n"
     ]
    }
   ],
   "source": [
    "# see proportion of males against females\n",
    "male_count = df[df[\"Gender\"] == \"Male\"].count()[\"Gender\"]\n",
    "male_proportion = (male_count / df.count() * 100)[\"Gender\"]\n",
    "female_count = df[df[\"Gender\"] == \"Female\"].count()[\"Gender\"]\n",
    "female_proportion = 100 - male_proportion\n",
    "\n",
    "print(\"Males:\", male_proportion, male_count)\n",
    "print(\"Females:\", female_proportion, female_count )"
   ]
  },
  {
   "cell_type": "code",
   "execution_count": 16,
   "metadata": {
    "scrolled": true
   },
   "outputs": [
    {
     "data": {
      "text/plain": [
       "<AxesSubplot:xlabel='Age', ylabel='Gender'>"
      ]
     },
     "execution_count": 16,
     "metadata": {},
     "output_type": "execute_result"
    },
    {
     "data": {
      "image/png": "[encoded data removed]",
      "text/plain": [
       "<Figure size 432x288 with 1 Axes>"
      ]
     },
     "metadata": {
      "needs_background": "light"
     },
     "output_type": "display_data"
    }
   ],
   "source": [
    "sns.violinplot(y=df[\"Gender\"], x=df[\"Age\"], split=True, hue=df[\"Survive\"])"
   ]
  },
  {
   "cell_type": "markdown",
   "metadata": {},
   "source": [
    "In terms of distribution across ages, we can see that majority of males who suffer from coronary artery disease land in the 50s to 60s, whereas majority of the females dominate the 40s and 60s to 70s region.\n",
    "\n",
    "Male survivors dominated ages past 60, while female survivors peaked at ages of 50, 60 and 70."
   ]
  },
  {
   "cell_type": "code",
   "execution_count": 17,
   "metadata": {
    "scrolled": true
   },
   "outputs": [
    {
     "data": {
      "text/plain": [
       "Text(0.5, 1.0, 'Male')"
      ]
     },
     "execution_count": 17,
     "metadata": {},
     "output_type": "execute_result"
    },
    {
     "data": {
      "image/png": "[encoded data removed]",
      "text/plain": [
       "<Figure size 720x288 with 2 Axes>"
      ]
     },
     "metadata": {
      "needs_background": "light"
     },
     "output_type": "display_data"
    }
   ],
   "source": [
    "fig, axes = plt.subplots(nrows=1, ncols=2, figsize = (10,4))\n",
    "female = df[df[\"Gender\"] == \"Female\"]\n",
    "male = df[df[\"Gender\"] == \"Male\"]\n",
    "\n",
    "ax = sns.histplot(data = female[female[\"Survive\"] == 1], x = \"Age\", bins = 20, ax = axes[0], element=\"step\", color=\"green\",label = \"Survived\")\n",
    "ax = sns.histplot(data = female[female[\"Survive\"] == 0], x = \"Age\", bins = 20, ax = axes[0], element=\"step\", color=\"gray\", label=\"Did not survive\")\n",
    "ax.legend()\n",
    "ax.set_title(\"Female\")\n",
    "\n",
    "ax1 = sns.histplot(data = male[male[\"Survive\"] == 1], x = \"Age\", bins = 20, ax = axes[1], element=\"step\", color=\"green\", label = \"Survived\")\n",
    "ax1 = sns.histplot(data = male[male[\"Survive\"] == 0], x = \"Age\", bins = 20, ax = axes[1], element=\"step\",color=\"gray\", label=\"Did not survive\")\n",
    "ax1.legend()\n",
    "ax1.set_title(\"Male\")\n",
    "\n"
   ]
  },
  {
   "cell_type": "markdown",
   "metadata": {},
   "source": [
    "The proportion of females suffering from coronary artery disease is roughly half of that of males (35% against 65%). We can see that both males and females have low mortality rates below the age of 70. Men have higer probabilities of survival past the age of 70, whereas women enjoy greater probabilities at the age of 60."
   ]
  },
  {
   "cell_type": "markdown",
   "metadata": {},
   "source": [
    "We will then map the genders to their corresponding binaries."
   ]
  },
  {
   "cell_type": "code",
   "execution_count": 18,
   "metadata": {},
   "outputs": [],
   "source": [
    "gender_map = {\"Male\": 1, \"Female\": 0}\n",
    "\n",
    "# map male to 1 and females to 0\n",
    "df[\"Gender\"] = df[\"Gender\"].map(gender_map)\n"
   ]
  },
  {
   "cell_type": "markdown",
   "metadata": {},
   "source": [
    "**3. Height and Weight / BMI**\n",
    "\n",
    "Since height and weight are correlated (you are likely to be heavier if you're taller), there is more value in analysing the data from the perspective of a Body Mass Index (BMI), which is formulated from the weight (kg) divided by the square of the height (m) of the individual. This allows us for better classification under an Obesity scale, which is a common attribute of general coronary performance.\n",
    "\n",
    "We can then drop the height and weight columns."
   ]
  },
  {
   "cell_type": "code",
   "execution_count": 19,
   "metadata": {
    "scrolled": true
   },
   "outputs": [],
   "source": [
    "df[\"BMI\"] = (df[\"Weight\"] / (df[\"Height\"] / 100 )**2)\n",
    "df = df.drop(columns=[\"Weight\", \"Height\"])"
   ]
  },
  {
   "cell_type": "code",
   "execution_count": 20,
   "metadata": {},
   "outputs": [
    {
     "data": {
      "text/plain": [
       "<seaborn.axisgrid.FacetGrid at 0x14895922160>"
      ]
     },
     "execution_count": 20,
     "metadata": {},
     "output_type": "execute_result"
    },
    {
     "data": {
      "image/png": "[encoded data removed]",
      "text/plain": [
       "<Figure size 405.5x360 with 1 Axes>"
      ]
     },
     "metadata": {
      "needs_background": "light"
     },
     "output_type": "display_data"
    }
   ],
   "source": [
    "sns.lmplot(x = \"Age\", y = \"BMI\", data = df, hue = \"Survive\")"
   ]
  },
  {
   "cell_type": "markdown",
   "metadata": {},
   "source": [
    "Clearly we can see a linear fitting to the relationship between age and BMI. It is interesting to note that a high proportion of survivals of coronary artery disease generally have a BMI above 30.0 (which is severely obese on the BMI scale). It could perhaps be attributed to a higher proportion of males against females (males tended to scale higher on BMI)."
   ]
  },
  {
   "cell_type": "markdown",
   "metadata": {},
   "source": [
    "**4. Smoking**"
   ]
  },
  {
   "cell_type": "markdown",
   "metadata": {},
   "source": [
    "We will first convert some of the values to a common {\"Yes\", \"No\"} set for better analysis."
   ]
  },
  {
   "cell_type": "code",
   "execution_count": 21,
   "metadata": {},
   "outputs": [
    {
     "data": {
      "text/plain": [
       "0    10109\n",
       "1     4891\n",
       "Name: Smoke, dtype: int64"
      ]
     },
     "execution_count": 21,
     "metadata": {},
     "output_type": "execute_result"
    }
   ],
   "source": [
    "smoke_map = { \"Yes\": 1, \"No\": 0}\n",
    "\n",
    "df[\"Smoke\"] = df[\"Smoke\"].replace(\"YES\", \"Yes\")\n",
    "df[\"Smoke\"] = df[\"Smoke\"].replace(\"NO\",\"No\")\n",
    "df[\"Smoke\"] = df[\"Smoke\"].map(smoke_map)\n",
    "\n",
    "df[\"Smoke\"].value_counts()"
   ]
  },
  {
   "cell_type": "code",
   "execution_count": 22,
   "metadata": {
    "scrolled": true
   },
   "outputs": [
    {
     "data": {
      "text/plain": [
       "<seaborn.axisgrid.FacetGrid at 0x14895ffa3d0>"
      ]
     },
     "execution_count": 22,
     "metadata": {},
     "output_type": "execute_result"
    },
    {
     "data": {
      "image/png": "[encoded data removed]",
      "text/plain": [
       "<Figure size 404.875x360 with 1 Axes>"
      ]
     },
     "metadata": {
      "needs_background": "light"
     },
     "output_type": "display_data"
    }
   ],
   "source": [
    "sns.catplot(x=\"Survive\", y=\"Smoke\", hue=\"Gender\", kind=\"bar\", data=df)"
   ]
  },
  {
   "cell_type": "markdown",
   "metadata": {},
   "source": [
    "As observed, there was a likelihood that you were less of a smoker if you made it through the ordeal of the disease. A greater proportion of smokers were overwhelmingly men."
   ]
  },
  {
   "cell_type": "markdown",
   "metadata": {},
   "source": [
    "**5. Effect of Diabetes**"
   ]
  },
  {
   "cell_type": "markdown",
   "metadata": {},
   "source": [
    "Things start to get a little tricky when assessing the relationship between diabetic condition and survival. We will first map the categories into numeric values."
   ]
  },
  {
   "cell_type": "code",
   "execution_count": 23,
   "metadata": {},
   "outputs": [
    {
     "data": {
      "text/plain": [
       "0    8789\n",
       "1    3124\n",
       "2    3087\n",
       "Name: Diabetes, dtype: int64"
      ]
     },
     "execution_count": 23,
     "metadata": {},
     "output_type": "execute_result"
    }
   ],
   "source": [
    "diabetes_map = { \"Normal\": 0, \"Pre-diabetes\": 1, \"Diabetes\": 2 }\n",
    "\n",
    "df[\"Diabetes\"] = df[\"Diabetes\"].map(diabetes_map)\n",
    "\n",
    "df[\"Diabetes\"].value_counts()"
   ]
  },
  {
   "cell_type": "code",
   "execution_count": 24,
   "metadata": {},
   "outputs": [
    {
     "data": {
      "text/plain": [
       "<seaborn.axisgrid.FacetGrid at 0x14895f42880>"
      ]
     },
     "execution_count": 24,
     "metadata": {},
     "output_type": "execute_result"
    },
    {
     "data": {
      "image/png": "[encoded data removed]",
      "text/plain": [
       "<Figure size 692.875x432 with 6 Axes>"
      ]
     },
     "metadata": {
      "needs_background": "light"
     },
     "output_type": "display_data"
    }
   ],
   "source": [
    "sns.FacetGrid(df, col=\"Diabetes\", row=\"Survive\", hue=\"Gender\").map(sns.histplot, \"Age\").add_legend()"
   ]
  },
  {
   "cell_type": "markdown",
   "metadata": {},
   "source": [
    "There is no clear distinction between the effects of diabetes against poor coronary artery performance. There is an equal proportion of people that are non-diabetic and yet did not survive the disease. We will investigate the relationship further in our models."
   ]
  },
  {
   "cell_type": "markdown",
   "metadata": {},
   "source": [
    "**6. Ejection Fraction**"
   ]
  },
  {
   "cell_type": "markdown",
   "metadata": {},
   "source": [
    "Ejection fraction is a measurement of the percentage of blood leaving your heart each time it squeezes (contracts)."
   ]
  },
  {
   "cell_type": "code",
   "execution_count": 25,
   "metadata": {},
   "outputs": [
    {
     "data": {
      "text/plain": [
       "0    13216\n",
       "1     1724\n",
       "2       60\n",
       "Name: Ejection Fraction, dtype: int64"
      ]
     },
     "execution_count": 25,
     "metadata": {},
     "output_type": "execute_result"
    }
   ],
   "source": [
    "ejection_map = { \"Low\": 0, \"Normal\": 1, \"High\": 2 }\n",
    "\n",
    "df[\"Ejection Fraction\"] = df[\"Ejection Fraction\"].replace(\"L\", \"Low\")\n",
    "df[\"Ejection Fraction\"] = df[\"Ejection Fraction\"].replace(\"N\", \"Normal\")\n",
    "df[\"Ejection Fraction\"] = df[\"Ejection Fraction\"].replace(\"H\", \"High\")\n",
    "df[\"Ejection Fraction\"] = df[\"Ejection Fraction\"].map(ejection_map)\n",
    "\n",
    "df[\"Ejection Fraction\"].value_counts()"
   ]
  },
  {
   "cell_type": "code",
   "execution_count": 26,
   "metadata": {},
   "outputs": [
    {
     "data": {
      "text/plain": [
       "<seaborn.axisgrid.FacetGrid at 0x14895f286d0>"
      ]
     },
     "execution_count": 26,
     "metadata": {},
     "output_type": "execute_result"
    },
    {
     "data": {
      "image/png": "[encoded data removed]",
      "text/plain": [
       "<Figure size 1080x360 with 1 Axes>"
      ]
     },
     "metadata": {
      "needs_background": "light"
     },
     "output_type": "display_data"
    }
   ],
   "source": [
    "sns.catplot(x=\"Ejection Fraction\", y=\"Survive\", data=df, kind=\"bar\", aspect = 3)"
   ]
  },
  {
   "cell_type": "markdown",
   "metadata": {},
   "source": [
    "It is not conclusive as there's a likelihood of survivor bias; someone with high ejection fraction will likely not contract coronary artery disease."
   ]
  },
  {
   "cell_type": "markdown",
   "metadata": {},
   "source": [
    "**7. Colours**\n",
    "\n",
    "We can find the enum type of colors by grouping them together and counting. Intuitively, one can assume safely that colors should have no correlation with the diagnosis and survival rate of a patient facing coronary artery disease."
   ]
  },
  {
   "cell_type": "code",
   "execution_count": 27,
   "metadata": {
    "scrolled": true
   },
   "outputs": [
    {
     "data": {
      "text/html": [
       "<div>\n",
       "<style scoped>\n",
       "    .dataframe tbody tr th:only-of-type {\n",
       "        vertical-align: middle;\n",
       "    }\n",
       "\n",
       "    .dataframe tbody tr th {\n",
       "        vertical-align: top;\n",
       "    }\n",
       "\n",
       "    .dataframe thead th {\n",
       "        text-align: right;\n",
       "    }\n",
       "</style>\n",
       "<table border=\"1\" class=\"dataframe\">\n",
       "  <thead>\n",
       "    <tr style=\"text-align: right;\">\n",
       "      <th></th>\n",
       "      <th>ID</th>\n",
       "      <th>Survive</th>\n",
       "      <th>Gender</th>\n",
       "      <th>Smoke</th>\n",
       "      <th>Diabetes</th>\n",
       "      <th>Age</th>\n",
       "      <th>Ejection Fraction</th>\n",
       "      <th>Sodium</th>\n",
       "      <th>Creatinine</th>\n",
       "      <th>Platelets</th>\n",
       "      <th>Creatine phosphokinase</th>\n",
       "      <th>Blood Pressure</th>\n",
       "      <th>Hemoglobin</th>\n",
       "      <th>BMI</th>\n",
       "    </tr>\n",
       "    <tr>\n",
       "      <th>Favorite color</th>\n",
       "      <th></th>\n",
       "      <th></th>\n",
       "      <th></th>\n",
       "      <th></th>\n",
       "      <th></th>\n",
       "      <th></th>\n",
       "      <th></th>\n",
       "      <th></th>\n",
       "      <th></th>\n",
       "      <th></th>\n",
       "      <th></th>\n",
       "      <th></th>\n",
       "      <th></th>\n",
       "      <th></th>\n",
       "    </tr>\n",
       "  </thead>\n",
       "  <tbody>\n",
       "    <tr>\n",
       "      <th>black</th>\n",
       "      <td>2464</td>\n",
       "      <td>2464</td>\n",
       "      <td>2464</td>\n",
       "      <td>2464</td>\n",
       "      <td>2464</td>\n",
       "      <td>2464</td>\n",
       "      <td>2464</td>\n",
       "      <td>2464</td>\n",
       "      <td>2380</td>\n",
       "      <td>2464</td>\n",
       "      <td>2464</td>\n",
       "      <td>2464</td>\n",
       "      <td>2464</td>\n",
       "      <td>2464</td>\n",
       "    </tr>\n",
       "    <tr>\n",
       "      <th>blue</th>\n",
       "      <td>2532</td>\n",
       "      <td>2532</td>\n",
       "      <td>2532</td>\n",
       "      <td>2532</td>\n",
       "      <td>2532</td>\n",
       "      <td>2532</td>\n",
       "      <td>2532</td>\n",
       "      <td>2532</td>\n",
       "      <td>2448</td>\n",
       "      <td>2532</td>\n",
       "      <td>2532</td>\n",
       "      <td>2532</td>\n",
       "      <td>2532</td>\n",
       "      <td>2532</td>\n",
       "    </tr>\n",
       "    <tr>\n",
       "      <th>green</th>\n",
       "      <td>2507</td>\n",
       "      <td>2507</td>\n",
       "      <td>2507</td>\n",
       "      <td>2507</td>\n",
       "      <td>2507</td>\n",
       "      <td>2507</td>\n",
       "      <td>2507</td>\n",
       "      <td>2507</td>\n",
       "      <td>2430</td>\n",
       "      <td>2507</td>\n",
       "      <td>2507</td>\n",
       "      <td>2507</td>\n",
       "      <td>2507</td>\n",
       "      <td>2507</td>\n",
       "    </tr>\n",
       "    <tr>\n",
       "      <th>red</th>\n",
       "      <td>2491</td>\n",
       "      <td>2491</td>\n",
       "      <td>2491</td>\n",
       "      <td>2491</td>\n",
       "      <td>2491</td>\n",
       "      <td>2491</td>\n",
       "      <td>2491</td>\n",
       "      <td>2491</td>\n",
       "      <td>2409</td>\n",
       "      <td>2491</td>\n",
       "      <td>2491</td>\n",
       "      <td>2491</td>\n",
       "      <td>2491</td>\n",
       "      <td>2491</td>\n",
       "    </tr>\n",
       "    <tr>\n",
       "      <th>white</th>\n",
       "      <td>2476</td>\n",
       "      <td>2476</td>\n",
       "      <td>2476</td>\n",
       "      <td>2476</td>\n",
       "      <td>2476</td>\n",
       "      <td>2476</td>\n",
       "      <td>2476</td>\n",
       "      <td>2476</td>\n",
       "      <td>2393</td>\n",
       "      <td>2476</td>\n",
       "      <td>2476</td>\n",
       "      <td>2476</td>\n",
       "      <td>2476</td>\n",
       "      <td>2476</td>\n",
       "    </tr>\n",
       "    <tr>\n",
       "      <th>yellow</th>\n",
       "      <td>2530</td>\n",
       "      <td>2530</td>\n",
       "      <td>2530</td>\n",
       "      <td>2530</td>\n",
       "      <td>2530</td>\n",
       "      <td>2530</td>\n",
       "      <td>2530</td>\n",
       "      <td>2530</td>\n",
       "      <td>2441</td>\n",
       "      <td>2530</td>\n",
       "      <td>2530</td>\n",
       "      <td>2530</td>\n",
       "      <td>2530</td>\n",
       "      <td>2530</td>\n",
       "    </tr>\n",
       "  </tbody>\n",
       "</table>\n",
       "</div>"
      ],
      "text/plain": [
       "                  ID  Survive  Gender  Smoke  Diabetes   Age  \\\n",
       "Favorite color                                                 \n",
       "black           2464     2464    2464   2464      2464  2464   \n",
       "blue            2532     2532    2532   2532      2532  2532   \n",
       "green           2507     2507    2507   2507      2507  2507   \n",
       "red             2491     2491    2491   2491      2491  2491   \n",
       "white           2476     2476    2476   2476      2476  2476   \n",
       "yellow          2530     2530    2530   2530      2530  2530   \n",
       "\n",
       "                Ejection Fraction  Sodium  Creatinine  Platelets  \\\n",
       "Favorite color                                                     \n",
       "black                        2464    2464        2380       2464   \n",
       "blue                         2532    2532        2448       2532   \n",
       "green                        2507    2507        2430       2507   \n",
       "red                          2491    2491        2409       2491   \n",
       "white                        2476    2476        2393       2476   \n",
       "yellow                       2530    2530        2441       2530   \n",
       "\n",
       "                Creatine phosphokinase  Blood Pressure  Hemoglobin   BMI  \n",
       "Favorite color                                                            \n",
       "black                             2464            2464        2464  2464  \n",
       "blue                              2532            2532        2532  2532  \n",
       "green                             2507            2507        2507  2507  \n",
       "red                               2491            2491        2491  2491  \n",
       "white                             2476            2476        2476  2476  \n",
       "yellow                            2530            2530        2530  2530  "
      ]
     },
     "execution_count": 27,
     "metadata": {},
     "output_type": "execute_result"
    }
   ],
   "source": [
    "df.groupby(\"Favorite color\").count()"
   ]
  },
  {
   "cell_type": "code",
   "execution_count": 28,
   "metadata": {},
   "outputs": [
    {
     "data": {
      "text/plain": [
       "1    2532\n",
       "5    2530\n",
       "2    2507\n",
       "3    2491\n",
       "4    2476\n",
       "0    2464\n",
       "Name: Favorite color, dtype: int64"
      ]
     },
     "execution_count": 28,
     "metadata": {},
     "output_type": "execute_result"
    }
   ],
   "source": [
    "color_map = { \"black\": 0,\"blue\": 1, \"green\": 2,\"red\": 3, \"white\": 4, \"yellow\": 5}\n",
    "\n",
    "df[\"Favorite color\"] = df[\"Favorite color\"].map(color_map)\n",
    "    \n",
    "df[\"Favorite color\"].value_counts()"
   ]
  },
  {
   "cell_type": "markdown",
   "metadata": {},
   "source": [
    "## Creating Categories for Continuous Data"
   ]
  },
  {
   "cell_type": "markdown",
   "metadata": {},
   "source": [
    "**1. BMI**\n",
    "\n",
    "As there are already established clinical categorisation of BMI, we will use them as a categorical marker."
   ]
  },
  {
   "cell_type": "code",
   "execution_count": 29,
   "metadata": {
    "scrolled": true
   },
   "outputs": [
    {
     "data": {
      "text/plain": [
       "(28.494, 32.713]    3751\n",
       "(11.242, 19.675]    3751\n",
       "(32.713, 39.796]    3749\n",
       "(19.675, 28.494]    3749\n",
       "Name: BMI Grp, dtype: int64"
      ]
     },
     "execution_count": 29,
     "metadata": {},
     "output_type": "execute_result"
    }
   ],
   "source": [
    "df[\"BMI Grp\"] = pd.qcut(df[\"BMI\"], 4)\n",
    "df[\"BMI Grp\"].value_counts()"
   ]
  },
  {
   "cell_type": "code",
   "execution_count": 30,
   "metadata": {},
   "outputs": [
    {
     "data": {
      "text/plain": [
       "0    3765\n",
       "1    3758\n",
       "3    3749\n",
       "2    3728\n",
       "Name: BMI, dtype: int64"
      ]
     },
     "execution_count": 30,
     "metadata": {},
     "output_type": "execute_result"
    }
   ],
   "source": [
    "df.loc[df[\"BMI\"] <= 19.724, \"BMI\"] = 0 \n",
    "df.loc[(df[\"BMI\"] > 19.724) & (df[\"BMI\"] <= 28.543), \"BMI\"] = 1 \n",
    "df.loc[(df[\"BMI\"] > 28.543) & (df[\"BMI\"] <= 32.716), \"BMI\"] = 2 \n",
    "df.loc[df[\"BMI\"] > 32.716, \"BMI\"] = 3 \n",
    "df[\"BMI\"] = df[\"BMI\"].astype(int)\n",
    "\n",
    "    \n",
    "df[\"BMI\"].value_counts()"
   ]
  },
  {
   "cell_type": "markdown",
   "metadata": {},
   "source": [
    "For the rest of the features, we can use the .qcut function in pandas to discretize the variables into equal-sized buckets."
   ]
  },
  {
   "cell_type": "markdown",
   "metadata": {},
   "source": [
    "**2. Age**"
   ]
  },
  {
   "cell_type": "code",
   "execution_count": 31,
   "metadata": {},
   "outputs": [
    {
     "data": {
      "text/plain": [
       "(51.0, 60.0]      4334\n",
       "(60.0, 70.0]      4165\n",
       "(39.999, 51.0]    3882\n",
       "(70.0, 95.0]      2619\n",
       "Name: Age Group, dtype: int64"
      ]
     },
     "execution_count": 31,
     "metadata": {},
     "output_type": "execute_result"
    }
   ],
   "source": [
    "df[\"Age Group\"] = pd.qcut(df[\"Age\"], 4)\n",
    "df[\"Age Group\"].value_counts()"
   ]
  },
  {
   "cell_type": "code",
   "execution_count": 32,
   "metadata": {},
   "outputs": [],
   "source": [
    "df.loc[df[\"Age\"] <= 51, \"Age\"] = 0\n",
    "df.loc[(df[\"Age\"] > 51) & (df[\"Age\"] <= 60), \"Age\"] = 1\n",
    "df.loc[(df[\"Age\"] > 60) & (df[\"Age\"] <= 70), \"Age\"] = 2\n",
    "df.loc[df[\"Age\"] > 70, \"Age\"] = 3\n",
    "df[\"Age\"] = df[\"Age\"].astype(int)"
   ]
  },
  {
   "cell_type": "markdown",
   "metadata": {},
   "source": [
    "**3. Sodium**"
   ]
  },
  {
   "cell_type": "code",
   "execution_count": 33,
   "metadata": {},
   "outputs": [
    {
     "data": {
      "text/plain": [
       "count    15000.000000\n",
       "mean       136.604267\n",
       "std          4.364890\n",
       "min        113.000000\n",
       "25%        134.000000\n",
       "50%        137.000000\n",
       "75%        140.000000\n",
       "max        148.000000\n",
       "Name: Sodium, dtype: float64"
      ]
     },
     "execution_count": 33,
     "metadata": {},
     "output_type": "execute_result"
    }
   ],
   "source": [
    "df[\"Sodium\"].describe()"
   ]
  },
  {
   "cell_type": "code",
   "execution_count": 34,
   "metadata": {},
   "outputs": [
    {
     "data": {
      "text/plain": [
       "(112.999, 134.0]    4239\n",
       "(136.0, 138.0]      3060\n",
       "(138.0, 140.0]      2851\n",
       "(134.0, 136.0]      2759\n",
       "(140.0, 148.0]      2091\n",
       "Name: Sodium Group, dtype: int64"
      ]
     },
     "execution_count": 34,
     "metadata": {},
     "output_type": "execute_result"
    }
   ],
   "source": [
    "df[\"Sodium Group\"] = pd.qcut(df[\"Sodium\"], 5)\n",
    "df[\"Sodium Group\"].value_counts()"
   ]
  },
  {
   "cell_type": "code",
   "execution_count": 35,
   "metadata": {},
   "outputs": [],
   "source": [
    "df.loc[df[\"Sodium\"] <= 134, \"Sodium\"] = 0\n",
    "df.loc[(df[\"Sodium\"] > 134) & (df[\"Sodium\"] <= 136), \"Sodium\"] = 1\n",
    "df.loc[(df[\"Sodium\"] > 136) & (df[\"Sodium\"] <= 138), \"Sodium\"] = 2\n",
    "df.loc[(df[\"Sodium\"] > 138) & (df[\"Sodium\"] <= 140), \"Sodium\"] = 3\n",
    "df.loc[df[\"Sodium\"] > 140, \"Sodium\"] = 4\n",
    "df[\"Sodium\"] = df[\"Sodium\"].astype(int)"
   ]
  },
  {
   "cell_type": "markdown",
   "metadata": {},
   "source": [
    "**4. Creatinine**"
   ]
  },
  {
   "cell_type": "markdown",
   "metadata": {},
   "source": [
    "Remember that for creatinine, we had ~380 missing values that we need to impute. We will fill the missing values with random numbers within +-1 standard deviation from the mean."
   ]
  },
  {
   "cell_type": "code",
   "execution_count": 36,
   "metadata": {},
   "outputs": [
    {
     "data": {
      "text/plain": [
       "0"
      ]
     },
     "execution_count": 36,
     "metadata": {},
     "output_type": "execute_result"
    }
   ],
   "source": [
    "mean = df[\"Creatinine\"].mean()\n",
    "std = df[\"Creatinine\"].std()\n",
    "null_values = df[\"Creatinine\"].isnull().sum()\n",
    "\n",
    "random_creatinine = np.random.randint( mean-std, mean+std, size = null_values)\n",
    "\n",
    "creatinine_copy = df[\"Creatinine\"].copy()\n",
    "creatinine_copy[np.isnan(creatinine_copy)] = random_creatinine\n",
    "df[\"Creatinine\"] = creatinine_copy\n",
    "\n",
    "df[\"Creatinine\"].isnull().sum()"
   ]
  },
  {
   "cell_type": "code",
   "execution_count": 37,
   "metadata": {
    "scrolled": true
   },
   "outputs": [
    {
     "data": {
      "text/plain": [
       "(0.9, 1.1]       4216\n",
       "(-0.001, 0.9]    4088\n",
       "(1.4, 9.4]       3592\n",
       "(1.1, 1.4]       3104\n",
       "Name: Creatinine Group, dtype: int64"
      ]
     },
     "execution_count": 37,
     "metadata": {},
     "output_type": "execute_result"
    }
   ],
   "source": [
    "df[\"Creatinine Group\"] = pd.qcut(df[\"Creatinine\"], 4)\n",
    "df[\"Creatinine Group\"].value_counts()"
   ]
  },
  {
   "cell_type": "code",
   "execution_count": 38,
   "metadata": {},
   "outputs": [],
   "source": [
    "df.loc[df[\"Creatinine\"] <= 0.9, \"Creatinine\"] = 0\n",
    "df.loc[(df[\"Creatinine\"] > 0.9) & (df[\"Creatinine\"] <= 1.1), \"Creatinine\"] = 1\n",
    "df.loc[(df[\"Creatinine\"] > 1.1) & (df[\"Creatinine\"] <= 1.4), \"Creatinine\"] = 2\n",
    "df.loc[df[\"Creatinine\"] > 1.4, \"Creatinine\"] = 3\n",
    "df[\"Creatinine\"] = df[\"Creatinine\"].astype(int)"
   ]
  },
  {
   "cell_type": "markdown",
   "metadata": {},
   "source": [
    "**5. Platelets**"
   ]
  },
  {
   "cell_type": "code",
   "execution_count": 39,
   "metadata": {},
   "outputs": [
    {
     "data": {
      "text/plain": [
       "(211000.0, 262000.0]     3789\n",
       "(262000.0, 304000.0]     3765\n",
       "(25099.999, 211000.0]    3763\n",
       "(304000.0, 850000.0]     3683\n",
       "Name: Platelets Group, dtype: int64"
      ]
     },
     "execution_count": 39,
     "metadata": {},
     "output_type": "execute_result"
    }
   ],
   "source": [
    "df[\"Platelets Group\"] = pd.qcut(df[\"Platelets\"], 4)\n",
    "df[\"Platelets Group\"].value_counts()"
   ]
  },
  {
   "cell_type": "code",
   "execution_count": 40,
   "metadata": {},
   "outputs": [],
   "source": [
    "df.loc[df[\"Platelets\"] <= 211000, \"Platelets\"] = 0\n",
    "df.loc[(df[\"Platelets\"] > 211000) & (df[\"Platelets\"] <= 262000), \"Platelets\"] = 1\n",
    "df.loc[(df[\"Platelets\"] > 262000) & (df[\"Platelets\"] <= 304000), \"Platelets\"] = 2\n",
    "df.loc[df[\"Platelets\"] > 304000, \"Platelets\"] = 3\n",
    "df[\"Platelets\"] = df[\"Platelets\"].astype(int)"
   ]
  },
  {
   "cell_type": "markdown",
   "metadata": {},
   "source": [
    "**6. Creatine phosphokinase**"
   ]
  },
  {
   "cell_type": "code",
   "execution_count": 41,
   "metadata": {},
   "outputs": [
    {
     "data": {
      "text/plain": [
       "(22.999, 101.0]    3025\n",
       "(101.0, 180.0]     3009\n",
       "(180.0, 418.0]     3008\n",
       "(618.0, 7861.0]    2999\n",
       "(418.0, 618.0]     2959\n",
       "Name: CP Group, dtype: int64"
      ]
     },
     "execution_count": 41,
     "metadata": {},
     "output_type": "execute_result"
    }
   ],
   "source": [
    "df[\"CP Group\"] = pd.qcut(df[\"Creatine phosphokinase\"], 5)\n",
    "df[\"CP Group\"].value_counts()"
   ]
  },
  {
   "cell_type": "code",
   "execution_count": 42,
   "metadata": {},
   "outputs": [],
   "source": [
    "df.loc[df[\"Creatine phosphokinase\"] <= 99.0, \"Creatine phosphokinase\"] = 0\n",
    "df.loc[(df[\"Creatine phosphokinase\"] > 99.0) & (df[\"Creatine phosphokinase\"] <= 180.0), \"Creatine phosphokinase\"] = 1\n",
    "df.loc[(df[\"Creatine phosphokinase\"] > 180.0) & (df[\"Creatine phosphokinase\"] <= 418.0), \"Creatine phosphokinase\"] = 2\n",
    "df.loc[(df[\"Creatine phosphokinase\"] > 418.0) & (df[\"Creatine phosphokinase\"] <= 646.0), \"Creatine phosphokinase\"] = 3\n",
    "df.loc[df[\"Creatine phosphokinase\"] > 646.0, \"Creatine phosphokinase\"] = 4\n",
    "df[\"Creatine phosphokinase\"] = df[\"Creatine phosphokinase\"].astype(int)"
   ]
  },
  {
   "cell_type": "markdown",
   "metadata": {},
   "source": [
    "**7. Blood Pressure**"
   ]
  },
  {
   "cell_type": "code",
   "execution_count": 43,
   "metadata": {},
   "outputs": [
    {
     "data": {
      "text/plain": [
       "(39.999, 70.0]    3776\n",
       "(100.0, 137.0]    3763\n",
       "(70.0, 100.0]     3747\n",
       "(137.0, 179.0]    3714\n",
       "Name: BP Group, dtype: int64"
      ]
     },
     "execution_count": 43,
     "metadata": {},
     "output_type": "execute_result"
    }
   ],
   "source": [
    "df[\"BP Group\"] = pd.qcut(df[\"Blood Pressure\"], 4)\n",
    "df[\"BP Group\"].value_counts()"
   ]
  },
  {
   "cell_type": "code",
   "execution_count": 44,
   "metadata": {},
   "outputs": [],
   "source": [
    "df.loc[df[\"Blood Pressure\"] <= 70, \"Blood Pressure\"] = 0\n",
    "df.loc[(df[\"Blood Pressure\"] > 70) & (df[\"Blood Pressure\"] <= 100), \"Blood Pressure\"] = 1\n",
    "df.loc[(df[\"Blood Pressure\"] > 100) & (df[\"Blood Pressure\"] <= 136), \"Blood Pressure\"] = 2\n",
    "df.loc[df[\"Blood Pressure\"] > 136, \"Blood Pressure\"] = 3\n",
    "df[\"Blood Pressure\"] = df[\"Blood Pressure\"].astype(int)"
   ]
  },
  {
   "cell_type": "markdown",
   "metadata": {},
   "source": [
    "**8. Hemoglobin**"
   ]
  },
  {
   "cell_type": "code",
   "execution_count": 45,
   "metadata": {},
   "outputs": [
    {
     "data": {
      "text/plain": [
       "(8.999, 10.7]    3886\n",
       "(12.7, 15.1]     3771\n",
       "(15.1, 17.5]     3674\n",
       "(10.7, 12.7]     3669\n",
       "Name: Hemoglobin Group, dtype: int64"
      ]
     },
     "execution_count": 45,
     "metadata": {},
     "output_type": "execute_result"
    }
   ],
   "source": [
    "df[\"Hemoglobin Group\"] = pd.qcut(df[\"Hemoglobin\"], 4)\n",
    "df[\"Hemoglobin Group\"].value_counts()"
   ]
  },
  {
   "cell_type": "code",
   "execution_count": 46,
   "metadata": {},
   "outputs": [],
   "source": [
    "df.loc[df[\"Hemoglobin\"] <= 10.7, \"Hemoglobin\"] = 0\n",
    "df.loc[(df[\"Hemoglobin\"] > 10.7) & (df[\"Hemoglobin\"] <= 12.7), \"Hemoglobin\"] = 1\n",
    "df.loc[(df[\"Hemoglobin\"] > 12.7) & (df[\"Hemoglobin\"] <= 15.1), \"Hemoglobin\"] = 2\n",
    "df.loc[df[\"Hemoglobin\"] > 15.1, \"Hemoglobin\"] = 3\n",
    "df[\"Hemoglobin\"] = df[\"Hemoglobin\"].astype(int)"
   ]
  },
  {
   "cell_type": "markdown",
   "metadata": {},
   "source": [
    "Once we are done with discretization, we can then drop the columns that are not of use in our machine learning model generation step. "
   ]
  },
  {
   "cell_type": "code",
   "execution_count": 47,
   "metadata": {},
   "outputs": [],
   "source": [
    "df = df.drop(columns=[\"ID\",\"BMI Grp\",\"Sodium Group\", \"Age Group\", \"Creatinine Group\", \"Platelets Group\", \"CP Group\",\"BP Group\",\"Hemoglobin Group\"])"
   ]
  },
  {
   "cell_type": "code",
   "execution_count": 48,
   "metadata": {
    "scrolled": true
   },
   "outputs": [
    {
     "data": {
      "text/html": [
       "<div>\n",
       "<style scoped>\n",
       "    .dataframe tbody tr th:only-of-type {\n",
       "        vertical-align: middle;\n",
       "    }\n",
       "\n",
       "    .dataframe tbody tr th {\n",
       "        vertical-align: top;\n",
       "    }\n",
       "\n",
       "    .dataframe thead th {\n",
       "        text-align: right;\n",
       "    }\n",
       "</style>\n",
       "<table border=\"1\" class=\"dataframe\">\n",
       "  <thead>\n",
       "    <tr style=\"text-align: right;\">\n",
       "      <th></th>\n",
       "      <th>Survive</th>\n",
       "      <th>Gender</th>\n",
       "      <th>Smoke</th>\n",
       "      <th>Diabetes</th>\n",
       "      <th>Age</th>\n",
       "      <th>Ejection Fraction</th>\n",
       "      <th>Sodium</th>\n",
       "      <th>Creatinine</th>\n",
       "      <th>Platelets</th>\n",
       "      <th>Creatine phosphokinase</th>\n",
       "      <th>Blood Pressure</th>\n",
       "      <th>Hemoglobin</th>\n",
       "      <th>Favorite color</th>\n",
       "      <th>BMI</th>\n",
       "    </tr>\n",
       "  </thead>\n",
       "  <tbody>\n",
       "    <tr>\n",
       "      <th>0</th>\n",
       "      <td>0</td>\n",
       "      <td>1</td>\n",
       "      <td>1</td>\n",
       "      <td>0</td>\n",
       "      <td>0</td>\n",
       "      <td>0</td>\n",
       "      <td>4</td>\n",
       "      <td>0</td>\n",
       "      <td>2</td>\n",
       "      <td>2</td>\n",
       "      <td>2</td>\n",
       "      <td>1</td>\n",
       "      <td>2</td>\n",
       "      <td>2</td>\n",
       "    </tr>\n",
       "    <tr>\n",
       "      <th>1</th>\n",
       "      <td>1</td>\n",
       "      <td>1</td>\n",
       "      <td>0</td>\n",
       "      <td>0</td>\n",
       "      <td>3</td>\n",
       "      <td>0</td>\n",
       "      <td>0</td>\n",
       "      <td>3</td>\n",
       "      <td>1</td>\n",
       "      <td>0</td>\n",
       "      <td>3</td>\n",
       "      <td>2</td>\n",
       "      <td>0</td>\n",
       "      <td>1</td>\n",
       "    </tr>\n",
       "    <tr>\n",
       "      <th>2</th>\n",
       "      <td>1</td>\n",
       "      <td>0</td>\n",
       "      <td>0</td>\n",
       "      <td>1</td>\n",
       "      <td>3</td>\n",
       "      <td>0</td>\n",
       "      <td>1</td>\n",
       "      <td>3</td>\n",
       "      <td>0</td>\n",
       "      <td>4</td>\n",
       "      <td>3</td>\n",
       "      <td>1</td>\n",
       "      <td>4</td>\n",
       "      <td>1</td>\n",
       "    </tr>\n",
       "    <tr>\n",
       "      <th>3</th>\n",
       "      <td>0</td>\n",
       "      <td>1</td>\n",
       "      <td>0</td>\n",
       "      <td>0</td>\n",
       "      <td>1</td>\n",
       "      <td>0</td>\n",
       "      <td>1</td>\n",
       "      <td>0</td>\n",
       "      <td>1</td>\n",
       "      <td>4</td>\n",
       "      <td>2</td>\n",
       "      <td>3</td>\n",
       "      <td>5</td>\n",
       "      <td>1</td>\n",
       "    </tr>\n",
       "    <tr>\n",
       "      <th>4</th>\n",
       "      <td>0</td>\n",
       "      <td>0</td>\n",
       "      <td>0</td>\n",
       "      <td>0</td>\n",
       "      <td>2</td>\n",
       "      <td>0</td>\n",
       "      <td>4</td>\n",
       "      <td>0</td>\n",
       "      <td>3</td>\n",
       "      <td>4</td>\n",
       "      <td>3</td>\n",
       "      <td>2</td>\n",
       "      <td>1</td>\n",
       "      <td>1</td>\n",
       "    </tr>\n",
       "    <tr>\n",
       "      <th>...</th>\n",
       "      <td>...</td>\n",
       "      <td>...</td>\n",
       "      <td>...</td>\n",
       "      <td>...</td>\n",
       "      <td>...</td>\n",
       "      <td>...</td>\n",
       "      <td>...</td>\n",
       "      <td>...</td>\n",
       "      <td>...</td>\n",
       "      <td>...</td>\n",
       "      <td>...</td>\n",
       "      <td>...</td>\n",
       "      <td>...</td>\n",
       "      <td>...</td>\n",
       "    </tr>\n",
       "    <tr>\n",
       "      <th>14995</th>\n",
       "      <td>0</td>\n",
       "      <td>1</td>\n",
       "      <td>1</td>\n",
       "      <td>0</td>\n",
       "      <td>0</td>\n",
       "      <td>0</td>\n",
       "      <td>3</td>\n",
       "      <td>0</td>\n",
       "      <td>3</td>\n",
       "      <td>2</td>\n",
       "      <td>2</td>\n",
       "      <td>1</td>\n",
       "      <td>1</td>\n",
       "      <td>0</td>\n",
       "    </tr>\n",
       "    <tr>\n",
       "      <th>14996</th>\n",
       "      <td>1</td>\n",
       "      <td>1</td>\n",
       "      <td>1</td>\n",
       "      <td>0</td>\n",
       "      <td>2</td>\n",
       "      <td>0</td>\n",
       "      <td>3</td>\n",
       "      <td>0</td>\n",
       "      <td>1</td>\n",
       "      <td>2</td>\n",
       "      <td>3</td>\n",
       "      <td>2</td>\n",
       "      <td>2</td>\n",
       "      <td>3</td>\n",
       "    </tr>\n",
       "    <tr>\n",
       "      <th>14997</th>\n",
       "      <td>0</td>\n",
       "      <td>0</td>\n",
       "      <td>0</td>\n",
       "      <td>0</td>\n",
       "      <td>2</td>\n",
       "      <td>0</td>\n",
       "      <td>4</td>\n",
       "      <td>0</td>\n",
       "      <td>1</td>\n",
       "      <td>0</td>\n",
       "      <td>3</td>\n",
       "      <td>0</td>\n",
       "      <td>1</td>\n",
       "      <td>2</td>\n",
       "    </tr>\n",
       "    <tr>\n",
       "      <th>14998</th>\n",
       "      <td>0</td>\n",
       "      <td>1</td>\n",
       "      <td>0</td>\n",
       "      <td>0</td>\n",
       "      <td>3</td>\n",
       "      <td>0</td>\n",
       "      <td>2</td>\n",
       "      <td>1</td>\n",
       "      <td>3</td>\n",
       "      <td>1</td>\n",
       "      <td>3</td>\n",
       "      <td>1</td>\n",
       "      <td>3</td>\n",
       "      <td>0</td>\n",
       "    </tr>\n",
       "    <tr>\n",
       "      <th>14999</th>\n",
       "      <td>1</td>\n",
       "      <td>1</td>\n",
       "      <td>0</td>\n",
       "      <td>0</td>\n",
       "      <td>0</td>\n",
       "      <td>0</td>\n",
       "      <td>1</td>\n",
       "      <td>3</td>\n",
       "      <td>0</td>\n",
       "      <td>3</td>\n",
       "      <td>3</td>\n",
       "      <td>3</td>\n",
       "      <td>3</td>\n",
       "      <td>1</td>\n",
       "    </tr>\n",
       "  </tbody>\n",
       "</table>\n",
       "<p>15000 rows × 14 columns</p>\n",
       "</div>"
      ],
      "text/plain": [
       "       Survive  Gender  Smoke  Diabetes  Age  Ejection Fraction  Sodium  \\\n",
       "0            0       1      1         0    0                  0       4   \n",
       "1            1       1      0         0    3                  0       0   \n",
       "2            1       0      0         1    3                  0       1   \n",
       "3            0       1      0         0    1                  0       1   \n",
       "4            0       0      0         0    2                  0       4   \n",
       "...        ...     ...    ...       ...  ...                ...     ...   \n",
       "14995        0       1      1         0    0                  0       3   \n",
       "14996        1       1      1         0    2                  0       3   \n",
       "14997        0       0      0         0    2                  0       4   \n",
       "14998        0       1      0         0    3                  0       2   \n",
       "14999        1       1      0         0    0                  0       1   \n",
       "\n",
       "       Creatinine  Platelets  Creatine phosphokinase  Blood Pressure  \\\n",
       "0               0          2                       2               2   \n",
       "1               3          1                       0               3   \n",
       "2               3          0                       4               3   \n",
       "3               0          1                       4               2   \n",
       "4               0          3                       4               3   \n",
       "...           ...        ...                     ...             ...   \n",
       "14995           0          3                       2               2   \n",
       "14996           0          1                       2               3   \n",
       "14997           0          1                       0               3   \n",
       "14998           1          3                       1               3   \n",
       "14999           3          0                       3               3   \n",
       "\n",
       "       Hemoglobin  Favorite color  BMI  \n",
       "0               1               2    2  \n",
       "1               2               0    1  \n",
       "2               1               4    1  \n",
       "3               3               5    1  \n",
       "4               2               1    1  \n",
       "...           ...             ...  ...  \n",
       "14995           1               1    0  \n",
       "14996           2               2    3  \n",
       "14997           0               1    2  \n",
       "14998           1               3    0  \n",
       "14999           3               3    1  \n",
       "\n",
       "[15000 rows x 14 columns]"
      ]
     },
     "execution_count": 48,
     "metadata": {},
     "output_type": "execute_result"
    }
   ],
   "source": [
    "df"
   ]
  },
  {
   "cell_type": "code",
   "execution_count": 49,
   "metadata": {
    "scrolled": true
   },
   "outputs": [
    {
     "data": {
      "text/html": [
       "<div>\n",
       "<style scoped>\n",
       "    .dataframe tbody tr th:only-of-type {\n",
       "        vertical-align: middle;\n",
       "    }\n",
       "\n",
       "    .dataframe tbody tr th {\n",
       "        vertical-align: top;\n",
       "    }\n",
       "\n",
       "    .dataframe thead th {\n",
       "        text-align: right;\n",
       "    }\n",
       "</style>\n",
       "<table border=\"1\" class=\"dataframe\">\n",
       "  <thead>\n",
       "    <tr style=\"text-align: right;\">\n",
       "      <th></th>\n",
       "      <th>Survive</th>\n",
       "      <th>Gender</th>\n",
       "      <th>Smoke</th>\n",
       "      <th>Diabetes</th>\n",
       "      <th>Age</th>\n",
       "      <th>Ejection Fraction</th>\n",
       "      <th>Sodium</th>\n",
       "      <th>Creatinine</th>\n",
       "      <th>Platelets</th>\n",
       "      <th>Creatine phosphokinase</th>\n",
       "      <th>Blood Pressure</th>\n",
       "      <th>Hemoglobin</th>\n",
       "      <th>Favorite color</th>\n",
       "      <th>BMI</th>\n",
       "    </tr>\n",
       "  </thead>\n",
       "  <tbody>\n",
       "    <tr>\n",
       "      <th>Survive</th>\n",
       "      <td>1.000000</td>\n",
       "      <td>-0.002095</td>\n",
       "      <td>-0.012188</td>\n",
       "      <td>-0.000827</td>\n",
       "      <td>0.185730</td>\n",
       "      <td>-0.109482</td>\n",
       "      <td>-0.224943</td>\n",
       "      <td>0.337281</td>\n",
       "      <td>-0.029991</td>\n",
       "      <td>-0.012671</td>\n",
       "      <td>0.055020</td>\n",
       "      <td>-0.059565</td>\n",
       "      <td>-0.009947</td>\n",
       "      <td>0.537058</td>\n",
       "    </tr>\n",
       "    <tr>\n",
       "      <th>Gender</th>\n",
       "      <td>-0.002095</td>\n",
       "      <td>1.000000</td>\n",
       "      <td>0.444572</td>\n",
       "      <td>-0.131739</td>\n",
       "      <td>0.084110</td>\n",
       "      <td>-0.130010</td>\n",
       "      <td>-0.084825</td>\n",
       "      <td>0.028864</td>\n",
       "      <td>-0.155851</td>\n",
       "      <td>0.015071</td>\n",
       "      <td>-0.092359</td>\n",
       "      <td>0.075947</td>\n",
       "      <td>-0.001800</td>\n",
       "      <td>0.003233</td>\n",
       "    </tr>\n",
       "    <tr>\n",
       "      <th>Smoke</th>\n",
       "      <td>-0.012188</td>\n",
       "      <td>0.444572</td>\n",
       "      <td>1.000000</td>\n",
       "      <td>-0.115746</td>\n",
       "      <td>0.042289</td>\n",
       "      <td>-0.036049</td>\n",
       "      <td>0.008259</td>\n",
       "      <td>0.006407</td>\n",
       "      <td>0.003513</td>\n",
       "      <td>-0.037620</td>\n",
       "      <td>-0.043140</td>\n",
       "      <td>0.086050</td>\n",
       "      <td>-0.010853</td>\n",
       "      <td>0.032186</td>\n",
       "    </tr>\n",
       "    <tr>\n",
       "      <th>Diabetes</th>\n",
       "      <td>-0.000827</td>\n",
       "      <td>-0.131739</td>\n",
       "      <td>-0.115746</td>\n",
       "      <td>1.000000</td>\n",
       "      <td>-0.110746</td>\n",
       "      <td>-0.021679</td>\n",
       "      <td>-0.049665</td>\n",
       "      <td>0.020291</td>\n",
       "      <td>0.055292</td>\n",
       "      <td>0.051852</td>\n",
       "      <td>-0.009745</td>\n",
       "      <td>-0.002549</td>\n",
       "      <td>0.000473</td>\n",
       "      <td>-0.007838</td>\n",
       "    </tr>\n",
       "    <tr>\n",
       "      <th>Age</th>\n",
       "      <td>0.185730</td>\n",
       "      <td>0.084110</td>\n",
       "      <td>0.042289</td>\n",
       "      <td>-0.110746</td>\n",
       "      <td>1.000000</td>\n",
       "      <td>0.018549</td>\n",
       "      <td>-0.114339</td>\n",
       "      <td>0.241356</td>\n",
       "      <td>-0.045053</td>\n",
       "      <td>-0.075757</td>\n",
       "      <td>0.088392</td>\n",
       "      <td>-0.046560</td>\n",
       "      <td>0.005646</td>\n",
       "      <td>0.127796</td>\n",
       "    </tr>\n",
       "    <tr>\n",
       "      <th>Ejection Fraction</th>\n",
       "      <td>-0.109482</td>\n",
       "      <td>-0.130010</td>\n",
       "      <td>-0.036049</td>\n",
       "      <td>-0.021679</td>\n",
       "      <td>0.018549</td>\n",
       "      <td>1.000000</td>\n",
       "      <td>0.096365</td>\n",
       "      <td>-0.055086</td>\n",
       "      <td>0.064179</td>\n",
       "      <td>-0.068372</td>\n",
       "      <td>0.024956</td>\n",
       "      <td>-0.061691</td>\n",
       "      <td>0.017557</td>\n",
       "      <td>0.069121</td>\n",
       "    </tr>\n",
       "    <tr>\n",
       "      <th>Sodium</th>\n",
       "      <td>-0.224943</td>\n",
       "      <td>-0.084825</td>\n",
       "      <td>0.008259</td>\n",
       "      <td>-0.049665</td>\n",
       "      <td>-0.114339</td>\n",
       "      <td>0.096365</td>\n",
       "      <td>1.000000</td>\n",
       "      <td>-0.273364</td>\n",
       "      <td>0.044289</td>\n",
       "      <td>0.004772</td>\n",
       "      <td>0.026230</td>\n",
       "      <td>-0.063054</td>\n",
       "      <td>-0.002704</td>\n",
       "      <td>-0.072893</td>\n",
       "    </tr>\n",
       "    <tr>\n",
       "      <th>Creatinine</th>\n",
       "      <td>0.337281</td>\n",
       "      <td>0.028864</td>\n",
       "      <td>0.006407</td>\n",
       "      <td>0.020291</td>\n",
       "      <td>0.241356</td>\n",
       "      <td>-0.055086</td>\n",
       "      <td>-0.273364</td>\n",
       "      <td>1.000000</td>\n",
       "      <td>-0.022150</td>\n",
       "      <td>-0.042496</td>\n",
       "      <td>-0.077683</td>\n",
       "      <td>0.035367</td>\n",
       "      <td>-0.005230</td>\n",
       "      <td>0.143534</td>\n",
       "    </tr>\n",
       "    <tr>\n",
       "      <th>Platelets</th>\n",
       "      <td>-0.029991</td>\n",
       "      <td>-0.155851</td>\n",
       "      <td>0.003513</td>\n",
       "      <td>0.055292</td>\n",
       "      <td>-0.045053</td>\n",
       "      <td>0.064179</td>\n",
       "      <td>0.044289</td>\n",
       "      <td>-0.022150</td>\n",
       "      <td>1.000000</td>\n",
       "      <td>0.120078</td>\n",
       "      <td>0.047203</td>\n",
       "      <td>0.069811</td>\n",
       "      <td>-0.003848</td>\n",
       "      <td>0.017700</td>\n",
       "    </tr>\n",
       "    <tr>\n",
       "      <th>Creatine phosphokinase</th>\n",
       "      <td>-0.012671</td>\n",
       "      <td>0.015071</td>\n",
       "      <td>-0.037620</td>\n",
       "      <td>0.051852</td>\n",
       "      <td>-0.075757</td>\n",
       "      <td>-0.068372</td>\n",
       "      <td>0.004772</td>\n",
       "      <td>-0.042496</td>\n",
       "      <td>0.120078</td>\n",
       "      <td>1.000000</td>\n",
       "      <td>-0.060530</td>\n",
       "      <td>0.195170</td>\n",
       "      <td>0.009361</td>\n",
       "      <td>-0.102765</td>\n",
       "    </tr>\n",
       "    <tr>\n",
       "      <th>Blood Pressure</th>\n",
       "      <td>0.055020</td>\n",
       "      <td>-0.092359</td>\n",
       "      <td>-0.043140</td>\n",
       "      <td>-0.009745</td>\n",
       "      <td>0.088392</td>\n",
       "      <td>0.024956</td>\n",
       "      <td>0.026230</td>\n",
       "      <td>-0.077683</td>\n",
       "      <td>0.047203</td>\n",
       "      <td>-0.060530</td>\n",
       "      <td>1.000000</td>\n",
       "      <td>-0.044618</td>\n",
       "      <td>0.001652</td>\n",
       "      <td>0.136447</td>\n",
       "    </tr>\n",
       "    <tr>\n",
       "      <th>Hemoglobin</th>\n",
       "      <td>-0.059565</td>\n",
       "      <td>0.075947</td>\n",
       "      <td>0.086050</td>\n",
       "      <td>-0.002549</td>\n",
       "      <td>-0.046560</td>\n",
       "      <td>-0.061691</td>\n",
       "      <td>-0.063054</td>\n",
       "      <td>0.035367</td>\n",
       "      <td>0.069811</td>\n",
       "      <td>0.195170</td>\n",
       "      <td>-0.044618</td>\n",
       "      <td>1.000000</td>\n",
       "      <td>-0.011897</td>\n",
       "      <td>-0.096788</td>\n",
       "    </tr>\n",
       "    <tr>\n",
       "      <th>Favorite color</th>\n",
       "      <td>-0.009947</td>\n",
       "      <td>-0.001800</td>\n",
       "      <td>-0.010853</td>\n",
       "      <td>0.000473</td>\n",
       "      <td>0.005646</td>\n",
       "      <td>0.017557</td>\n",
       "      <td>-0.002704</td>\n",
       "      <td>-0.005230</td>\n",
       "      <td>-0.003848</td>\n",
       "      <td>0.009361</td>\n",
       "      <td>0.001652</td>\n",
       "      <td>-0.011897</td>\n",
       "      <td>1.000000</td>\n",
       "      <td>-0.006833</td>\n",
       "    </tr>\n",
       "    <tr>\n",
       "      <th>BMI</th>\n",
       "      <td>0.537058</td>\n",
       "      <td>0.003233</td>\n",
       "      <td>0.032186</td>\n",
       "      <td>-0.007838</td>\n",
       "      <td>0.127796</td>\n",
       "      <td>0.069121</td>\n",
       "      <td>-0.072893</td>\n",
       "      <td>0.143534</td>\n",
       "      <td>0.017700</td>\n",
       "      <td>-0.102765</td>\n",
       "      <td>0.136447</td>\n",
       "      <td>-0.096788</td>\n",
       "      <td>-0.006833</td>\n",
       "      <td>1.000000</td>\n",
       "    </tr>\n",
       "  </tbody>\n",
       "</table>\n",
       "</div>"
      ],
      "text/plain": [
       "                         Survive    Gender     Smoke  Diabetes       Age  \\\n",
       "Survive                 1.000000 -0.002095 -0.012188 -0.000827  0.185730   \n",
       "Gender                 -0.002095  1.000000  0.444572 -0.131739  0.084110   \n",
       "Smoke                  -0.012188  0.444572  1.000000 -0.115746  0.042289   \n",
       "Diabetes               -0.000827 -0.131739 -0.115746  1.000000 -0.110746   \n",
       "Age                     0.185730  0.084110  0.042289 -0.110746  1.000000   \n",
       "Ejection Fraction      -0.109482 -0.130010 -0.036049 -0.021679  0.018549   \n",
       "Sodium                 -0.224943 -0.084825  0.008259 -0.049665 -0.114339   \n",
       "Creatinine              0.337281  0.028864  0.006407  0.020291  0.241356   \n",
       "Platelets              -0.029991 -0.155851  0.003513  0.055292 -0.045053   \n",
       "Creatine phosphokinase -0.012671  0.015071 -0.037620  0.051852 -0.075757   \n",
       "Blood Pressure          0.055020 -0.092359 -0.043140 -0.009745  0.088392   \n",
       "Hemoglobin             -0.059565  0.075947  0.086050 -0.002549 -0.046560   \n",
       "Favorite color         -0.009947 -0.001800 -0.010853  0.000473  0.005646   \n",
       "BMI                     0.537058  0.003233  0.032186 -0.007838  0.127796   \n",
       "\n",
       "                        Ejection Fraction    Sodium  Creatinine  Platelets  \\\n",
       "Survive                         -0.109482 -0.224943    0.337281  -0.029991   \n",
       "Gender                          -0.130010 -0.084825    0.028864  -0.155851   \n",
       "Smoke                           -0.036049  0.008259    0.006407   0.003513   \n",
       "Diabetes                        -0.021679 -0.049665    0.020291   0.055292   \n",
       "Age                              0.018549 -0.114339    0.241356  -0.045053   \n",
       "Ejection Fraction                1.000000  0.096365   -0.055086   0.064179   \n",
       "Sodium                           0.096365  1.000000   -0.273364   0.044289   \n",
       "Creatinine                      -0.055086 -0.273364    1.000000  -0.022150   \n",
       "Platelets                        0.064179  0.044289   -0.022150   1.000000   \n",
       "Creatine phosphokinase          -0.068372  0.004772   -0.042496   0.120078   \n",
       "Blood Pressure                   0.024956  0.026230   -0.077683   0.047203   \n",
       "Hemoglobin                      -0.061691 -0.063054    0.035367   0.069811   \n",
       "Favorite color                   0.017557 -0.002704   -0.005230  -0.003848   \n",
       "BMI                              0.069121 -0.072893    0.143534   0.017700   \n",
       "\n",
       "                        Creatine phosphokinase  Blood Pressure  Hemoglobin  \\\n",
       "Survive                              -0.012671        0.055020   -0.059565   \n",
       "Gender                                0.015071       -0.092359    0.075947   \n",
       "Smoke                                -0.037620       -0.043140    0.086050   \n",
       "Diabetes                              0.051852       -0.009745   -0.002549   \n",
       "Age                                  -0.075757        0.088392   -0.046560   \n",
       "Ejection Fraction                    -0.068372        0.024956   -0.061691   \n",
       "Sodium                                0.004772        0.026230   -0.063054   \n",
       "Creatinine                           -0.042496       -0.077683    0.035367   \n",
       "Platelets                             0.120078        0.047203    0.069811   \n",
       "Creatine phosphokinase                1.000000       -0.060530    0.195170   \n",
       "Blood Pressure                       -0.060530        1.000000   -0.044618   \n",
       "Hemoglobin                            0.195170       -0.044618    1.000000   \n",
       "Favorite color                        0.009361        0.001652   -0.011897   \n",
       "BMI                                  -0.102765        0.136447   -0.096788   \n",
       "\n",
       "                        Favorite color       BMI  \n",
       "Survive                      -0.009947  0.537058  \n",
       "Gender                       -0.001800  0.003233  \n",
       "Smoke                        -0.010853  0.032186  \n",
       "Diabetes                      0.000473 -0.007838  \n",
       "Age                           0.005646  0.127796  \n",
       "Ejection Fraction             0.017557  0.069121  \n",
       "Sodium                       -0.002704 -0.072893  \n",
       "Creatinine                   -0.005230  0.143534  \n",
       "Platelets                    -0.003848  0.017700  \n",
       "Creatine phosphokinase        0.009361 -0.102765  \n",
       "Blood Pressure                0.001652  0.136447  \n",
       "Hemoglobin                   -0.011897 -0.096788  \n",
       "Favorite color                1.000000 -0.006833  \n",
       "BMI                          -0.006833  1.000000  "
      ]
     },
     "execution_count": 49,
     "metadata": {},
     "output_type": "execute_result"
    }
   ],
   "source": [
    "df.corr()"
   ]
  },
  {
   "cell_type": "markdown",
   "metadata": {},
   "source": [
    "In terms of chances of survival, the BMI of an individual currently has the strongest correlation, followed by creatinine levels, and weakly by the age of an individual."
   ]
  },
  {
   "cell_type": "code",
   "execution_count": 50,
   "metadata": {
    "scrolled": true
   },
   "outputs": [
    {
     "data": {
      "text/plain": [
       "<AxesSubplot:>"
      ]
     },
     "execution_count": 50,
     "metadata": {},
     "output_type": "execute_result"
    },
    {
     "data": {
      "image/png": "[encoded data removed]",
      "text/plain": [
       "<Figure size 432x288 with 2 Axes>"
      ]
     },
     "metadata": {
      "needs_background": "light"
     },
     "output_type": "display_data"
    }
   ],
   "source": [
    "sns.heatmap(df.corr(), annot=True, cmap = 'viridis')"
   ]
  },
  {
   "cell_type": "markdown",
   "metadata": {},
   "source": [
    "## Machine Learning Models"
   ]
  },
  {
   "cell_type": "markdown",
   "metadata": {},
   "source": [
    "After cleaning, imputing and generalizing the data, we will then build and train the data on different machine learning models and compare their relative performance. We will use the common classification algorithms - Naive Bayes, Stochastic Gradient Descent, K-Nearest Neighbours, SVM, Decision Trees, Random Forest, and Logistic Regression."
   ]
  },
  {
   "cell_type": "code",
   "execution_count": 51,
   "metadata": {},
   "outputs": [],
   "source": [
    "from sklearn.model_selection import train_test_split\n",
    "\n",
    "train, test = train_test_split(df, test_size=0.2)"
   ]
  },
  {
   "cell_type": "code",
   "execution_count": 52,
   "metadata": {},
   "outputs": [
    {
     "data": {
      "text/html": [
       "<div>\n",
       "<style scoped>\n",
       "    .dataframe tbody tr th:only-of-type {\n",
       "        vertical-align: middle;\n",
       "    }\n",
       "\n",
       "    .dataframe tbody tr th {\n",
       "        vertical-align: top;\n",
       "    }\n",
       "\n",
       "    .dataframe thead th {\n",
       "        text-align: right;\n",
       "    }\n",
       "</style>\n",
       "<table border=\"1\" class=\"dataframe\">\n",
       "  <thead>\n",
       "    <tr style=\"text-align: right;\">\n",
       "      <th></th>\n",
       "      <th>Gender</th>\n",
       "      <th>Smoke</th>\n",
       "      <th>Diabetes</th>\n",
       "      <th>Age</th>\n",
       "      <th>Ejection Fraction</th>\n",
       "      <th>Sodium</th>\n",
       "      <th>Creatinine</th>\n",
       "      <th>Platelets</th>\n",
       "      <th>Creatine phosphokinase</th>\n",
       "      <th>Blood Pressure</th>\n",
       "      <th>Hemoglobin</th>\n",
       "      <th>Favorite color</th>\n",
       "      <th>BMI</th>\n",
       "    </tr>\n",
       "  </thead>\n",
       "  <tbody>\n",
       "    <tr>\n",
       "      <th>9242</th>\n",
       "      <td>1</td>\n",
       "      <td>0</td>\n",
       "      <td>1</td>\n",
       "      <td>0</td>\n",
       "      <td>0</td>\n",
       "      <td>1</td>\n",
       "      <td>0</td>\n",
       "      <td>2</td>\n",
       "      <td>3</td>\n",
       "      <td>2</td>\n",
       "      <td>3</td>\n",
       "      <td>1</td>\n",
       "      <td>1</td>\n",
       "    </tr>\n",
       "    <tr>\n",
       "      <th>3939</th>\n",
       "      <td>1</td>\n",
       "      <td>0</td>\n",
       "      <td>0</td>\n",
       "      <td>3</td>\n",
       "      <td>0</td>\n",
       "      <td>2</td>\n",
       "      <td>3</td>\n",
       "      <td>0</td>\n",
       "      <td>2</td>\n",
       "      <td>2</td>\n",
       "      <td>1</td>\n",
       "      <td>3</td>\n",
       "      <td>3</td>\n",
       "    </tr>\n",
       "    <tr>\n",
       "      <th>794</th>\n",
       "      <td>1</td>\n",
       "      <td>1</td>\n",
       "      <td>0</td>\n",
       "      <td>2</td>\n",
       "      <td>0</td>\n",
       "      <td>0</td>\n",
       "      <td>1</td>\n",
       "      <td>2</td>\n",
       "      <td>4</td>\n",
       "      <td>0</td>\n",
       "      <td>2</td>\n",
       "      <td>5</td>\n",
       "      <td>2</td>\n",
       "    </tr>\n",
       "    <tr>\n",
       "      <th>1716</th>\n",
       "      <td>0</td>\n",
       "      <td>0</td>\n",
       "      <td>2</td>\n",
       "      <td>2</td>\n",
       "      <td>0</td>\n",
       "      <td>1</td>\n",
       "      <td>1</td>\n",
       "      <td>1</td>\n",
       "      <td>4</td>\n",
       "      <td>1</td>\n",
       "      <td>0</td>\n",
       "      <td>4</td>\n",
       "      <td>0</td>\n",
       "    </tr>\n",
       "    <tr>\n",
       "      <th>407</th>\n",
       "      <td>1</td>\n",
       "      <td>1</td>\n",
       "      <td>2</td>\n",
       "      <td>3</td>\n",
       "      <td>0</td>\n",
       "      <td>0</td>\n",
       "      <td>3</td>\n",
       "      <td>0</td>\n",
       "      <td>0</td>\n",
       "      <td>2</td>\n",
       "      <td>3</td>\n",
       "      <td>3</td>\n",
       "      <td>3</td>\n",
       "    </tr>\n",
       "    <tr>\n",
       "      <th>...</th>\n",
       "      <td>...</td>\n",
       "      <td>...</td>\n",
       "      <td>...</td>\n",
       "      <td>...</td>\n",
       "      <td>...</td>\n",
       "      <td>...</td>\n",
       "      <td>...</td>\n",
       "      <td>...</td>\n",
       "      <td>...</td>\n",
       "      <td>...</td>\n",
       "      <td>...</td>\n",
       "      <td>...</td>\n",
       "      <td>...</td>\n",
       "    </tr>\n",
       "    <tr>\n",
       "      <th>11764</th>\n",
       "      <td>1</td>\n",
       "      <td>0</td>\n",
       "      <td>1</td>\n",
       "      <td>2</td>\n",
       "      <td>0</td>\n",
       "      <td>0</td>\n",
       "      <td>1</td>\n",
       "      <td>2</td>\n",
       "      <td>4</td>\n",
       "      <td>2</td>\n",
       "      <td>0</td>\n",
       "      <td>2</td>\n",
       "      <td>1</td>\n",
       "    </tr>\n",
       "    <tr>\n",
       "      <th>2074</th>\n",
       "      <td>0</td>\n",
       "      <td>0</td>\n",
       "      <td>2</td>\n",
       "      <td>2</td>\n",
       "      <td>0</td>\n",
       "      <td>1</td>\n",
       "      <td>1</td>\n",
       "      <td>1</td>\n",
       "      <td>2</td>\n",
       "      <td>2</td>\n",
       "      <td>2</td>\n",
       "      <td>2</td>\n",
       "      <td>2</td>\n",
       "    </tr>\n",
       "    <tr>\n",
       "      <th>433</th>\n",
       "      <td>1</td>\n",
       "      <td>1</td>\n",
       "      <td>1</td>\n",
       "      <td>1</td>\n",
       "      <td>0</td>\n",
       "      <td>3</td>\n",
       "      <td>1</td>\n",
       "      <td>3</td>\n",
       "      <td>2</td>\n",
       "      <td>0</td>\n",
       "      <td>3</td>\n",
       "      <td>1</td>\n",
       "      <td>0</td>\n",
       "    </tr>\n",
       "    <tr>\n",
       "      <th>5576</th>\n",
       "      <td>0</td>\n",
       "      <td>0</td>\n",
       "      <td>1</td>\n",
       "      <td>2</td>\n",
       "      <td>0</td>\n",
       "      <td>0</td>\n",
       "      <td>1</td>\n",
       "      <td>3</td>\n",
       "      <td>0</td>\n",
       "      <td>3</td>\n",
       "      <td>1</td>\n",
       "      <td>4</td>\n",
       "      <td>3</td>\n",
       "    </tr>\n",
       "    <tr>\n",
       "      <th>3964</th>\n",
       "      <td>0</td>\n",
       "      <td>0</td>\n",
       "      <td>0</td>\n",
       "      <td>0</td>\n",
       "      <td>1</td>\n",
       "      <td>2</td>\n",
       "      <td>3</td>\n",
       "      <td>2</td>\n",
       "      <td>3</td>\n",
       "      <td>1</td>\n",
       "      <td>1</td>\n",
       "      <td>0</td>\n",
       "      <td>2</td>\n",
       "    </tr>\n",
       "  </tbody>\n",
       "</table>\n",
       "<p>12000 rows × 13 columns</p>\n",
       "</div>"
      ],
      "text/plain": [
       "       Gender  Smoke  Diabetes  Age  Ejection Fraction  Sodium  Creatinine  \\\n",
       "9242        1      0         1    0                  0       1           0   \n",
       "3939        1      0         0    3                  0       2           3   \n",
       "794         1      1         0    2                  0       0           1   \n",
       "1716        0      0         2    2                  0       1           1   \n",
       "407         1      1         2    3                  0       0           3   \n",
       "...       ...    ...       ...  ...                ...     ...         ...   \n",
       "11764       1      0         1    2                  0       0           1   \n",
       "2074        0      0         2    2                  0       1           1   \n",
       "433         1      1         1    1                  0       3           1   \n",
       "5576        0      0         1    2                  0       0           1   \n",
       "3964        0      0         0    0                  1       2           3   \n",
       "\n",
       "       Platelets  Creatine phosphokinase  Blood Pressure  Hemoglobin  \\\n",
       "9242           2                       3               2           3   \n",
       "3939           0                       2               2           1   \n",
       "794            2                       4               0           2   \n",
       "1716           1                       4               1           0   \n",
       "407            0                       0               2           3   \n",
       "...          ...                     ...             ...         ...   \n",
       "11764          2                       4               2           0   \n",
       "2074           1                       2               2           2   \n",
       "433            3                       2               0           3   \n",
       "5576           3                       0               3           1   \n",
       "3964           2                       3               1           1   \n",
       "\n",
       "       Favorite color  BMI  \n",
       "9242                1    1  \n",
       "3939                3    3  \n",
       "794                 5    2  \n",
       "1716                4    0  \n",
       "407                 3    3  \n",
       "...               ...  ...  \n",
       "11764               2    1  \n",
       "2074                2    2  \n",
       "433                 1    0  \n",
       "5576                4    3  \n",
       "3964                0    2  \n",
       "\n",
       "[12000 rows x 13 columns]"
      ]
     },
     "execution_count": 52,
     "metadata": {},
     "output_type": "execute_result"
    }
   ],
   "source": [
    "X_train = train.drop(\"Survive\", axis=1)\n",
    "Y_train = train[\"Survive\"]\n",
    "X_test = test.drop(\"Survive\",axis=1).copy()\n",
    "\n",
    "X_train"
   ]
  },
  {
   "cell_type": "markdown",
   "metadata": {},
   "source": [
    "### 1. Stochastic Gradient Descent"
   ]
  },
  {
   "cell_type": "markdown",
   "metadata": {},
   "source": [
    "This estimator implements regularized linear models with SGD learning. Other than the iteration count, we will keep the rest to default values."
   ]
  },
  {
   "cell_type": "code",
   "execution_count": 53,
   "metadata": {},
   "outputs": [],
   "source": [
    "sgd = linear_model.SGDClassifier(max_iter=1000, tol=None)\n",
    "sgd.fit(X_train, Y_train)\n",
    "\n",
    "Y_prediction = sgd.predict(X_test)\n",
    "\n",
    "accuracy_sgd = round(sgd.score(X_train, Y_train) * 100, 2)"
   ]
  },
  {
   "cell_type": "markdown",
   "metadata": {},
   "source": [
    "### 2. Random Forest"
   ]
  },
  {
   "cell_type": "markdown",
   "metadata": {},
   "source": [
    "This estimator fits decision tree classifiers on various sub-samples of the data and averages across to improve predictive accuracy and prevent over-fitting."
   ]
  },
  {
   "cell_type": "code",
   "execution_count": 54,
   "metadata": {},
   "outputs": [],
   "source": [
    "randomForest = RandomForestClassifier(n_estimators=100)\n",
    "randomForest.fit(X_train, Y_train)\n",
    "\n",
    "Y_prediction = randomForest.predict(X_test)\n",
    "\n",
    "accuracy_randomForest = round(randomForest.score(X_train, Y_train) * 100, 2)"
   ]
  },
  {
   "cell_type": "markdown",
   "metadata": {},
   "source": [
    "### 3. Logistic Regression"
   ]
  },
  {
   "cell_type": "markdown",
   "metadata": {},
   "source": [
    "Model data based on a logistic function. "
   ]
  },
  {
   "cell_type": "code",
   "execution_count": 55,
   "metadata": {},
   "outputs": [],
   "source": [
    "logreg = LogisticRegression(max_iter=1000)\n",
    "logreg.fit(X_train, Y_train)\n",
    "\n",
    "Y_prediction = logreg.predict(X_test)\n",
    "\n",
    "accuracy_LogReg = round(logreg.score(X_train, Y_train) * 100, 2)"
   ]
  },
  {
   "cell_type": "markdown",
   "metadata": {},
   "source": [
    "### 4. k-Nearest Neighbour"
   ]
  },
  {
   "cell_type": "markdown",
   "metadata": {},
   "source": [
    "This estimator finds the k-neighbours of each point."
   ]
  },
  {
   "cell_type": "code",
   "execution_count": 56,
   "metadata": {},
   "outputs": [],
   "source": [
    "knn = KNeighborsClassifier(n_neighbors = 3) \n",
    "knn.fit(X_train, Y_train)  \n",
    "\n",
    "Y_prediction = knn.predict(X_test)\n",
    "\n",
    "accuracy_knn = round(knn.score(X_train, Y_train) * 100, 2)"
   ]
  },
  {
   "cell_type": "markdown",
   "metadata": {},
   "source": [
    "### 5. Gaussian Naive Bayes"
   ]
  },
  {
   "cell_type": "code",
   "execution_count": 57,
   "metadata": {},
   "outputs": [],
   "source": [
    "naiveBayes = GaussianNB() \n",
    "naiveBayes.fit(X_train, Y_train)\n",
    "\n",
    "Y_prediction = naiveBayes.predict(X_test)  \n",
    "\n",
    "accuracy_naiveBayes = round(naiveBayes.score(X_train, Y_train) * 100, 2)"
   ]
  },
  {
   "cell_type": "markdown",
   "metadata": {},
   "source": [
    "### 6. Support Vector Machine"
   ]
  },
  {
   "cell_type": "code",
   "execution_count": 58,
   "metadata": {},
   "outputs": [],
   "source": [
    "svc = SVC()\n",
    "svc.fit(X_train, Y_train)\n",
    "\n",
    "Y_prediction = svc.predict(X_test)\n",
    "\n",
    "accuracy_svc = round(svc.score(X_train, Y_train) * 100, 2)"
   ]
  },
  {
   "cell_type": "markdown",
   "metadata": {},
   "source": [
    "### 7. Decision Tree"
   ]
  },
  {
   "cell_type": "code",
   "execution_count": 59,
   "metadata": {},
   "outputs": [],
   "source": [
    "tree = DecisionTreeClassifier() \n",
    "tree.fit(X_train, Y_train)  \n",
    "\n",
    "Y_prediction = tree.predict(X_test)  \n",
    "\n",
    "accuracy_tree = round(tree.score(X_train, Y_train) * 100, 2)"
   ]
  },
  {
   "cell_type": "markdown",
   "metadata": {},
   "source": [
    "## Evaluating the ML models"
   ]
  },
  {
   "cell_type": "markdown",
   "metadata": {},
   "source": [
    "We can compare and evaluate the relative accuracy of the ML models."
   ]
  },
  {
   "cell_type": "code",
   "execution_count": 60,
   "metadata": {},
   "outputs": [
    {
     "data": {
      "text/html": [
       "<div>\n",
       "<style scoped>\n",
       "    .dataframe tbody tr th:only-of-type {\n",
       "        vertical-align: middle;\n",
       "    }\n",
       "\n",
       "    .dataframe tbody tr th {\n",
       "        vertical-align: top;\n",
       "    }\n",
       "\n",
       "    .dataframe thead th {\n",
       "        text-align: right;\n",
       "    }\n",
       "</style>\n",
       "<table border=\"1\" class=\"dataframe\">\n",
       "  <thead>\n",
       "    <tr style=\"text-align: right;\">\n",
       "      <th></th>\n",
       "      <th>Model</th>\n",
       "    </tr>\n",
       "    <tr>\n",
       "      <th>Score</th>\n",
       "      <th></th>\n",
       "    </tr>\n",
       "  </thead>\n",
       "  <tbody>\n",
       "    <tr>\n",
       "      <th>100.00</th>\n",
       "      <td>Random Forests</td>\n",
       "    </tr>\n",
       "    <tr>\n",
       "      <th>100.00</th>\n",
       "      <td>Decision Trees</td>\n",
       "    </tr>\n",
       "    <tr>\n",
       "      <th>99.90</th>\n",
       "      <td>KNN</td>\n",
       "    </tr>\n",
       "    <tr>\n",
       "      <th>96.02</th>\n",
       "      <td>SVC</td>\n",
       "    </tr>\n",
       "    <tr>\n",
       "      <th>82.18</th>\n",
       "      <td>Stochastic Gradient Descent</td>\n",
       "    </tr>\n",
       "    <tr>\n",
       "      <th>81.44</th>\n",
       "      <td>Logistic Regression</td>\n",
       "    </tr>\n",
       "    <tr>\n",
       "      <th>81.12</th>\n",
       "      <td>Naive Bayes</td>\n",
       "    </tr>\n",
       "  </tbody>\n",
       "</table>\n",
       "</div>"
      ],
      "text/plain": [
       "                              Model\n",
       "Score                              \n",
       "100.00               Random Forests\n",
       "100.00               Decision Trees\n",
       "99.90                           KNN\n",
       "96.02                           SVC\n",
       "82.18   Stochastic Gradient Descent\n",
       "81.44           Logistic Regression\n",
       "81.12                   Naive Bayes"
      ]
     },
     "execution_count": 60,
     "metadata": {},
     "output_type": "execute_result"
    }
   ],
   "source": [
    "results = pd.DataFrame({\n",
    "    'Model': ['Stochastic Gradient Descent', 'Random Forests', 'Logistic Regression', 'KNN', 'Naive Bayes', 'SVC', 'Decision Trees'],\n",
    "    'Score': [accuracy_sgd, accuracy_randomForest, accuracy_LogReg, accuracy_knn, accuracy_naiveBayes, accuracy_svc, accuracy_tree]\n",
    "    })\n",
    "\n",
    "results = results.sort_values(by='Score', ascending=False)\n",
    "results = results.set_index('Score')\n",
    "results.head(7)\n"
   ]
  },
  {
   "cell_type": "markdown",
   "metadata": {},
   "source": [
    "Evidently, Random Forests, Decision Trees and K-Nearest Neighbours perform very well in classifying the results. In this case, we will simply choose Random Forests as our principal ML model for this feature set."
   ]
  },
  {
   "cell_type": "markdown",
   "metadata": {},
   "source": [
    "## Feature Importance"
   ]
  },
  {
   "cell_type": "markdown",
   "metadata": {},
   "source": [
    "We can then measure the relative importance of each feature using Sklearn's in-built feature to compute the breakdown of relative importances."
   ]
  },
  {
   "cell_type": "code",
   "execution_count": 61,
   "metadata": {},
   "outputs": [
    {
     "data": {
      "text/html": [
       "<div>\n",
       "<style scoped>\n",
       "    .dataframe tbody tr th:only-of-type {\n",
       "        vertical-align: middle;\n",
       "    }\n",
       "\n",
       "    .dataframe tbody tr th {\n",
       "        vertical-align: top;\n",
       "    }\n",
       "\n",
       "    .dataframe thead th {\n",
       "        text-align: right;\n",
       "    }\n",
       "</style>\n",
       "<table border=\"1\" class=\"dataframe\">\n",
       "  <thead>\n",
       "    <tr style=\"text-align: right;\">\n",
       "      <th></th>\n",
       "      <th>Importance</th>\n",
       "    </tr>\n",
       "    <tr>\n",
       "      <th>Feature</th>\n",
       "      <th></th>\n",
       "    </tr>\n",
       "  </thead>\n",
       "  <tbody>\n",
       "    <tr>\n",
       "      <th>BMI</th>\n",
       "      <td>0.360</td>\n",
       "    </tr>\n",
       "    <tr>\n",
       "      <th>Sodium</th>\n",
       "      <td>0.111</td>\n",
       "    </tr>\n",
       "    <tr>\n",
       "      <th>Creatinine</th>\n",
       "      <td>0.093</td>\n",
       "    </tr>\n",
       "    <tr>\n",
       "      <th>Age</th>\n",
       "      <td>0.090</td>\n",
       "    </tr>\n",
       "    <tr>\n",
       "      <th>Creatine phosphokinase</th>\n",
       "      <td>0.089</td>\n",
       "    </tr>\n",
       "    <tr>\n",
       "      <th>Platelets</th>\n",
       "      <td>0.077</td>\n",
       "    </tr>\n",
       "    <tr>\n",
       "      <th>Diabetes</th>\n",
       "      <td>0.044</td>\n",
       "    </tr>\n",
       "    <tr>\n",
       "      <th>Gender</th>\n",
       "      <td>0.034</td>\n",
       "    </tr>\n",
       "    <tr>\n",
       "      <th>Smoke</th>\n",
       "      <td>0.030</td>\n",
       "    </tr>\n",
       "    <tr>\n",
       "      <th>Hemoglobin</th>\n",
       "      <td>0.026</td>\n",
       "    </tr>\n",
       "    <tr>\n",
       "      <th>Blood Pressure</th>\n",
       "      <td>0.024</td>\n",
       "    </tr>\n",
       "    <tr>\n",
       "      <th>Ejection Fraction</th>\n",
       "      <td>0.015</td>\n",
       "    </tr>\n",
       "    <tr>\n",
       "      <th>Favorite color</th>\n",
       "      <td>0.005</td>\n",
       "    </tr>\n",
       "  </tbody>\n",
       "</table>\n",
       "</div>"
      ],
      "text/plain": [
       "                        Importance\n",
       "Feature                           \n",
       "BMI                          0.360\n",
       "Sodium                       0.111\n",
       "Creatinine                   0.093\n",
       "Age                          0.090\n",
       "Creatine phosphokinase       0.089\n",
       "Platelets                    0.077\n",
       "Diabetes                     0.044\n",
       "Gender                       0.034\n",
       "Smoke                        0.030\n",
       "Hemoglobin                   0.026\n",
       "Blood Pressure               0.024\n",
       "Ejection Fraction            0.015\n",
       "Favorite color               0.005"
      ]
     },
     "execution_count": 61,
     "metadata": {},
     "output_type": "execute_result"
    }
   ],
   "source": [
    "importances = pd.DataFrame({\n",
    "    'Feature': X_train.columns,\n",
    "    'Importance': np.round(randomForest.feature_importances_,3)\n",
    "})\n",
    "importances = importances.sort_values('Importance',ascending=False).set_index('Feature')\n",
    "importances.head(15)"
   ]
  },
  {
   "cell_type": "code",
   "execution_count": 62,
   "metadata": {},
   "outputs": [
    {
     "data": {
      "text/plain": [
       "<AxesSubplot:xlabel='Feature'>"
      ]
     },
     "execution_count": 62,
     "metadata": {},
     "output_type": "execute_result"
    },
    {
     "data": {
      "image/png": "[encoded data removed]",
      "text/plain": [
       "<Figure size 432x288 with 1 Axes>"
      ]
     },
     "metadata": {
      "needs_background": "light"
     },
     "output_type": "display_data"
    }
   ],
   "source": [
    "importances.plot.bar()"
   ]
  },
  {
   "cell_type": "markdown",
   "metadata": {},
   "source": [
    "This makes sense. High BMI, which is an indicator of obesity, strongly signals poor dietary habits, leading to coronary artery blockage. This also connects closely with sodium intake and the corresponding enzyme levels.\n",
    "\n",
    "We also see that, as expected, the favourite color of an individual has little to no importance to the outcome of his/her coronary disease. We will also attempt to remove factors of lower importance than blood pressure and assess any changes to importance."
   ]
  },
  {
   "cell_type": "code",
   "execution_count": 63,
   "metadata": {
    "scrolled": true
   },
   "outputs": [],
   "source": [
    "X_train = X_train.drop(columns=[\"Favorite color\", \"Ejection Fraction\"])\n",
    "X_test = X_test.drop(columns=[\"Favorite color\", \"Ejection Fraction\"])"
   ]
  },
  {
   "cell_type": "code",
   "execution_count": 64,
   "metadata": {},
   "outputs": [
    {
     "data": {
      "text/html": [
       "<div>\n",
       "<style scoped>\n",
       "    .dataframe tbody tr th:only-of-type {\n",
       "        vertical-align: middle;\n",
       "    }\n",
       "\n",
       "    .dataframe tbody tr th {\n",
       "        vertical-align: top;\n",
       "    }\n",
       "\n",
       "    .dataframe thead th {\n",
       "        text-align: right;\n",
       "    }\n",
       "</style>\n",
       "<table border=\"1\" class=\"dataframe\">\n",
       "  <thead>\n",
       "    <tr style=\"text-align: right;\">\n",
       "      <th></th>\n",
       "      <th>Gender</th>\n",
       "      <th>Smoke</th>\n",
       "      <th>Diabetes</th>\n",
       "      <th>Age</th>\n",
       "      <th>Sodium</th>\n",
       "      <th>Creatinine</th>\n",
       "      <th>Platelets</th>\n",
       "      <th>Creatine phosphokinase</th>\n",
       "      <th>Blood Pressure</th>\n",
       "      <th>Hemoglobin</th>\n",
       "      <th>BMI</th>\n",
       "    </tr>\n",
       "  </thead>\n",
       "  <tbody>\n",
       "    <tr>\n",
       "      <th>9242</th>\n",
       "      <td>1</td>\n",
       "      <td>0</td>\n",
       "      <td>1</td>\n",
       "      <td>0</td>\n",
       "      <td>1</td>\n",
       "      <td>0</td>\n",
       "      <td>2</td>\n",
       "      <td>3</td>\n",
       "      <td>2</td>\n",
       "      <td>3</td>\n",
       "      <td>1</td>\n",
       "    </tr>\n",
       "    <tr>\n",
       "      <th>3939</th>\n",
       "      <td>1</td>\n",
       "      <td>0</td>\n",
       "      <td>0</td>\n",
       "      <td>3</td>\n",
       "      <td>2</td>\n",
       "      <td>3</td>\n",
       "      <td>0</td>\n",
       "      <td>2</td>\n",
       "      <td>2</td>\n",
       "      <td>1</td>\n",
       "      <td>3</td>\n",
       "    </tr>\n",
       "    <tr>\n",
       "      <th>794</th>\n",
       "      <td>1</td>\n",
       "      <td>1</td>\n",
       "      <td>0</td>\n",
       "      <td>2</td>\n",
       "      <td>0</td>\n",
       "      <td>1</td>\n",
       "      <td>2</td>\n",
       "      <td>4</td>\n",
       "      <td>0</td>\n",
       "      <td>2</td>\n",
       "      <td>2</td>\n",
       "    </tr>\n",
       "    <tr>\n",
       "      <th>1716</th>\n",
       "      <td>0</td>\n",
       "      <td>0</td>\n",
       "      <td>2</td>\n",
       "      <td>2</td>\n",
       "      <td>1</td>\n",
       "      <td>1</td>\n",
       "      <td>1</td>\n",
       "      <td>4</td>\n",
       "      <td>1</td>\n",
       "      <td>0</td>\n",
       "      <td>0</td>\n",
       "    </tr>\n",
       "    <tr>\n",
       "      <th>407</th>\n",
       "      <td>1</td>\n",
       "      <td>1</td>\n",
       "      <td>2</td>\n",
       "      <td>3</td>\n",
       "      <td>0</td>\n",
       "      <td>3</td>\n",
       "      <td>0</td>\n",
       "      <td>0</td>\n",
       "      <td>2</td>\n",
       "      <td>3</td>\n",
       "      <td>3</td>\n",
       "    </tr>\n",
       "    <tr>\n",
       "      <th>...</th>\n",
       "      <td>...</td>\n",
       "      <td>...</td>\n",
       "      <td>...</td>\n",
       "      <td>...</td>\n",
       "      <td>...</td>\n",
       "      <td>...</td>\n",
       "      <td>...</td>\n",
       "      <td>...</td>\n",
       "      <td>...</td>\n",
       "      <td>...</td>\n",
       "      <td>...</td>\n",
       "    </tr>\n",
       "    <tr>\n",
       "      <th>11764</th>\n",
       "      <td>1</td>\n",
       "      <td>0</td>\n",
       "      <td>1</td>\n",
       "      <td>2</td>\n",
       "      <td>0</td>\n",
       "      <td>1</td>\n",
       "      <td>2</td>\n",
       "      <td>4</td>\n",
       "      <td>2</td>\n",
       "      <td>0</td>\n",
       "      <td>1</td>\n",
       "    </tr>\n",
       "    <tr>\n",
       "      <th>2074</th>\n",
       "      <td>0</td>\n",
       "      <td>0</td>\n",
       "      <td>2</td>\n",
       "      <td>2</td>\n",
       "      <td>1</td>\n",
       "      <td>1</td>\n",
       "      <td>1</td>\n",
       "      <td>2</td>\n",
       "      <td>2</td>\n",
       "      <td>2</td>\n",
       "      <td>2</td>\n",
       "    </tr>\n",
       "    <tr>\n",
       "      <th>433</th>\n",
       "      <td>1</td>\n",
       "      <td>1</td>\n",
       "      <td>1</td>\n",
       "      <td>1</td>\n",
       "      <td>3</td>\n",
       "      <td>1</td>\n",
       "      <td>3</td>\n",
       "      <td>2</td>\n",
       "      <td>0</td>\n",
       "      <td>3</td>\n",
       "      <td>0</td>\n",
       "    </tr>\n",
       "    <tr>\n",
       "      <th>5576</th>\n",
       "      <td>0</td>\n",
       "      <td>0</td>\n",
       "      <td>1</td>\n",
       "      <td>2</td>\n",
       "      <td>0</td>\n",
       "      <td>1</td>\n",
       "      <td>3</td>\n",
       "      <td>0</td>\n",
       "      <td>3</td>\n",
       "      <td>1</td>\n",
       "      <td>3</td>\n",
       "    </tr>\n",
       "    <tr>\n",
       "      <th>3964</th>\n",
       "      <td>0</td>\n",
       "      <td>0</td>\n",
       "      <td>0</td>\n",
       "      <td>0</td>\n",
       "      <td>2</td>\n",
       "      <td>3</td>\n",
       "      <td>2</td>\n",
       "      <td>3</td>\n",
       "      <td>1</td>\n",
       "      <td>1</td>\n",
       "      <td>2</td>\n",
       "    </tr>\n",
       "  </tbody>\n",
       "</table>\n",
       "<p>12000 rows × 11 columns</p>\n",
       "</div>"
      ],
      "text/plain": [
       "       Gender  Smoke  Diabetes  Age  Sodium  Creatinine  Platelets  \\\n",
       "9242        1      0         1    0       1           0          2   \n",
       "3939        1      0         0    3       2           3          0   \n",
       "794         1      1         0    2       0           1          2   \n",
       "1716        0      0         2    2       1           1          1   \n",
       "407         1      1         2    3       0           3          0   \n",
       "...       ...    ...       ...  ...     ...         ...        ...   \n",
       "11764       1      0         1    2       0           1          2   \n",
       "2074        0      0         2    2       1           1          1   \n",
       "433         1      1         1    1       3           1          3   \n",
       "5576        0      0         1    2       0           1          3   \n",
       "3964        0      0         0    0       2           3          2   \n",
       "\n",
       "       Creatine phosphokinase  Blood Pressure  Hemoglobin  BMI  \n",
       "9242                        3               2           3    1  \n",
       "3939                        2               2           1    3  \n",
       "794                         4               0           2    2  \n",
       "1716                        4               1           0    0  \n",
       "407                         0               2           3    3  \n",
       "...                       ...             ...         ...  ...  \n",
       "11764                       4               2           0    1  \n",
       "2074                        2               2           2    2  \n",
       "433                         2               0           3    0  \n",
       "5576                        0               3           1    3  \n",
       "3964                        3               1           1    2  \n",
       "\n",
       "[12000 rows x 11 columns]"
      ]
     },
     "execution_count": 64,
     "metadata": {},
     "output_type": "execute_result"
    }
   ],
   "source": [
    "X_train"
   ]
  },
  {
   "cell_type": "markdown",
   "metadata": {},
   "source": [
    "We can then train the random forest model again to assess any changes to accuracy."
   ]
  },
  {
   "cell_type": "code",
   "execution_count": 65,
   "metadata": {},
   "outputs": [
    {
     "name": "stdout",
     "output_type": "stream",
     "text": [
      "100.0 %\n"
     ]
    }
   ],
   "source": [
    "randomForest = RandomForestClassifier(n_estimators=100, oob_score = True)\n",
    "randomForest.fit(X_train, Y_train)\n",
    "\n",
    "Y_prediction = randomForest.predict(X_test)\n",
    "\n",
    "accuracy_randomForest = round(randomForest.score(X_train, Y_train) * 100, 2)\n",
    "print(round(accuracy_randomForest,2), \"%\")"
   ]
  },
  {
   "cell_type": "markdown",
   "metadata": {},
   "source": [
    "The model still predicts with relatively high accuracy. By reducing the features considered for training, we reduce the likelihood of overfittting. Other than BMI, we can see that the other features contribute relatively equally to the outcome of a patient's disease."
   ]
  },
  {
   "cell_type": "code",
   "execution_count": 66,
   "metadata": {},
   "outputs": [
    {
     "data": {
      "text/html": [
       "<div>\n",
       "<style scoped>\n",
       "    .dataframe tbody tr th:only-of-type {\n",
       "        vertical-align: middle;\n",
       "    }\n",
       "\n",
       "    .dataframe tbody tr th {\n",
       "        vertical-align: top;\n",
       "    }\n",
       "\n",
       "    .dataframe thead th {\n",
       "        text-align: right;\n",
       "    }\n",
       "</style>\n",
       "<table border=\"1\" class=\"dataframe\">\n",
       "  <thead>\n",
       "    <tr style=\"text-align: right;\">\n",
       "      <th></th>\n",
       "      <th>Importance</th>\n",
       "    </tr>\n",
       "    <tr>\n",
       "      <th>Feature</th>\n",
       "      <th></th>\n",
       "    </tr>\n",
       "  </thead>\n",
       "  <tbody>\n",
       "    <tr>\n",
       "      <th>BMI</th>\n",
       "      <td>0.360</td>\n",
       "    </tr>\n",
       "    <tr>\n",
       "      <th>Sodium</th>\n",
       "      <td>0.112</td>\n",
       "    </tr>\n",
       "    <tr>\n",
       "      <th>Age</th>\n",
       "      <td>0.097</td>\n",
       "    </tr>\n",
       "    <tr>\n",
       "      <th>Creatinine</th>\n",
       "      <td>0.096</td>\n",
       "    </tr>\n",
       "    <tr>\n",
       "      <th>Creatine phosphokinase</th>\n",
       "      <td>0.095</td>\n",
       "    </tr>\n",
       "    <tr>\n",
       "      <th>Platelets</th>\n",
       "      <td>0.075</td>\n",
       "    </tr>\n",
       "    <tr>\n",
       "      <th>Diabetes</th>\n",
       "      <td>0.045</td>\n",
       "    </tr>\n",
       "    <tr>\n",
       "      <th>Gender</th>\n",
       "      <td>0.035</td>\n",
       "    </tr>\n",
       "    <tr>\n",
       "      <th>Smoke</th>\n",
       "      <td>0.032</td>\n",
       "    </tr>\n",
       "    <tr>\n",
       "      <th>Hemoglobin</th>\n",
       "      <td>0.029</td>\n",
       "    </tr>\n",
       "    <tr>\n",
       "      <th>Blood Pressure</th>\n",
       "      <td>0.023</td>\n",
       "    </tr>\n",
       "  </tbody>\n",
       "</table>\n",
       "</div>"
      ],
      "text/plain": [
       "                        Importance\n",
       "Feature                           \n",
       "BMI                          0.360\n",
       "Sodium                       0.112\n",
       "Age                          0.097\n",
       "Creatinine                   0.096\n",
       "Creatine phosphokinase       0.095\n",
       "Platelets                    0.075\n",
       "Diabetes                     0.045\n",
       "Gender                       0.035\n",
       "Smoke                        0.032\n",
       "Hemoglobin                   0.029\n",
       "Blood Pressure               0.023"
      ]
     },
     "execution_count": 66,
     "metadata": {},
     "output_type": "execute_result"
    }
   ],
   "source": [
    "importances = pd.DataFrame({\n",
    "    'Feature': X_train.columns,\n",
    "    'Importance': np.round(randomForest.feature_importances_,3)\n",
    "})\n",
    "importances = importances.sort_values('Importance', ascending=False).set_index('Feature')\n",
    "importances.head(15)"
   ]
  },
  {
   "cell_type": "markdown",
   "metadata": {},
   "source": [
    "### Confusion Matrix"
   ]
  },
  {
   "cell_type": "markdown",
   "metadata": {},
   "source": [
    "If we want to assess further on how well our new model performs on this classification problem, we can check to see how 'confused' our model gets when it makes prediction. It also tells us the types of errors that are made in the evaluation step."
   ]
  },
  {
   "cell_type": "code",
   "execution_count": 67,
   "metadata": {},
   "outputs": [
    {
     "data": {
      "text/plain": [
       "array([[8138,    3],\n",
       "       [   0, 3859]], dtype=int64)"
      ]
     },
     "execution_count": 67,
     "metadata": {},
     "output_type": "execute_result"
    }
   ],
   "source": [
    "from sklearn.model_selection import cross_val_predict\n",
    "from sklearn.metrics import confusion_matrix\n",
    "\n",
    "predictions = cross_val_predict(randomForest, X_train, Y_train, cv=3)\n",
    "confusion_matrix(Y_train, predictions)"
   ]
  },
  {
   "cell_type": "markdown",
   "metadata": {},
   "source": [
    "From this, we can tell that a large proportion (>8000) individuals were correctly classified as not survived (also known as true negatives), while around 4000 were correctly classified as survived (also known as true positives). This gives us a strong mandate of confidence on the accuracy of the model, since the number of false negatives (classified as high chance of survival but died) is extremely low."
   ]
  },
  {
   "cell_type": "markdown",
   "metadata": {},
   "source": [
    "### Precision and Recall"
   ]
  },
  {
   "cell_type": "code",
   "execution_count": 68,
   "metadata": {},
   "outputs": [
    {
     "name": "stdout",
     "output_type": "stream",
     "text": [
      "Precision: 0.9992232004142931\n",
      "Recall: 1.0\n"
     ]
    }
   ],
   "source": [
    "from sklearn.metrics import precision_score, recall_score\n",
    "\n",
    "print(\"Precision:\", precision_score(Y_train, predictions))\n",
    "print(\"Recall:\", recall_score(Y_train, predictions))"
   ]
  },
  {
   "cell_type": "markdown",
   "metadata": {},
   "source": [
    "Precision predicts an accurate assessment of the patient's survival, which in this case hits 99.9% of the time. Recall also indicates to us that the Random Forests algorithm can predict 100% of the people who will survive based on the set parameters."
   ]
  },
  {
   "cell_type": "markdown",
   "metadata": {},
   "source": [
    "### F-Score"
   ]
  },
  {
   "cell_type": "code",
   "execution_count": 69,
   "metadata": {},
   "outputs": [
    {
     "data": {
      "text/plain": [
       "0.9996114492941329"
      ]
     },
     "execution_count": 69,
     "metadata": {},
     "output_type": "execute_result"
    }
   ],
   "source": [
    "from sklearn.metrics import f1_score\n",
    "f1_score(Y_train, predictions)"
   ]
  },
  {
   "cell_type": "markdown",
   "metadata": {},
   "source": [
    "The F-score is a computation of the harmonic mean of the precision and recall variables we calculated above. The F-score classifier will return us a large number if and only if the recall and precision values are high.\n",
    "\n",
    "In this case, the Random Forests classifier returns us a near-perfect F-score."
   ]
  },
  {
   "cell_type": "markdown",
   "metadata": {},
   "source": [
    "# Summary"
   ]
  },
  {
   "cell_type": "markdown",
   "metadata": {},
   "source": [
    "After a thorough data-exploration, we cleaned understood the relative feature importance of each feature. We also had a deeper understanding of the correlations between various datasets, as cross-examining various feature relationships gave us new insights into the dataset.\n",
    "\n",
    "While pre-processing the data, we discretized continuous variables, imputed missing values and generated combined feature \"BMI\" that can more generically explain the relationship between obesity and survival rates.\n",
    "\n",
    "Using various classification models, we found out that Random Forests provided us with great reliability and accuracy in predicting survival by assessing the importance of each feature and then optimizing the hyperparameters."
   ]
  }
 ],
 "metadata": {
  "kernelspec": {
   "display_name": "Python 3",
   "language": "python",
   "name": "python3"
  },
  "language_info": {
   "codemirror_mode": {
    "name": "ipython",
    "version": 3
   },
   "file_extension": ".py",
   "mimetype": "text/x-python",
   "name": "python",
   "nbconvert_exporter": "python",
   "pygments_lexer": "ipython3",
   "version": "3.8.5"
  }
 },
 "nbformat": 4,
 "nbformat_minor": 5
}
